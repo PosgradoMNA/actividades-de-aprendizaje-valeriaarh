{
 "cells": [
  {
   "cell_type": "code",
   "execution_count": null,
   "metadata": {},
   "outputs": [],
   "source": []
  },
  {
   "cell_type": "markdown",
   "metadata": {
    "id": "3mGWbm1lEKJb"
   },
   "source": [
    "# Calidad del aire\n",
    "\n",
    "Evelyn Aylin Rendón Medina - A01748750\n",
    "Valeria Alejandra Ramírez Herrera - A01240716\n",
    "\n",
    "El nombre que caracteriza el conjunto de datos: AirQualityUCI\n",
    "\n",
    "La organización que lo generó: ENEA - National Agency for New Technologies, Energy and Sustainable Economic Development.\n",
    "\n",
    "Incluya un enlace de Internet donde se puedan descargar en línea y enviar como una hoja de cálculo junto con su informe correspondiente: https://archive.ics.uci.edu/ml/machine-learning-databases/00360/\n",
    "(La hoja de cálculo se indlcuye dentro del archivo: AirQualityUCI.zip)\n",
    "\n",
    "Describe el conjunto de datos. ¿Qué datos contiene? - Datos multivariables y series de tiempo. El set de datos contiene 9358 instancias del promedio por hora de 5 metales dados por los sensores de Air Quality Chemical Multisensor Device.\n",
    "\n",
    "¿Cuáles son algunas de las preguntas de investigación que podría responder con estos datos? Enumere al menos OCHO (no responda las preguntas:\n",
    "1. ¿Cuál es el promedio mensual detectado para el óxido de estaño (PT08.S1(CO))?\n",
    "2. ¿Cuál es el promedio mensual detectado para el dióxido de carbono (CO(GT))?\n",
    "3. ¿Cuál es el promedio mensual detectado para el hidrocarburos no metánicos (NMHC(GT))?\n",
    "4. ¿Cuál es el promedio mensual detectado para el benzeno (C6H6(GT))?\n",
    "5. ¿Cuál es el promedio mensual detectado para el titania (PT08.S2(NMHC))?\n",
    "6. ¿Cuál es el promedio mensual detectado para el grupo de gases muy reactivos (óxido nítrico) (NOx(GT))?\n",
    "7. ¿Cuál es el promedio mensual detectado para el óxido de tunsgeno (PT08.S3(NOx))?\n",
    "8. ¿Cuál es el promedio mensual detectado para el dióxido de nitrógeno (NO2(GT)?\n",
    "9. ¿Cuál es el promedio mensual detectado para el óxido de tunsgeno (nominalmente dirigido a NOx) (PT08.S4(NO2)?\n",
    "10. ¿Cuál es el promedio mensual detectado para el óxido de indio (PT08.S5(O3))?\n",
    "\n",
    "¿Qué actor (empresa, sector de la sociedad, organismo descentralizado, gobierno, etc.) estaría interesado en las preguntas mencionadas que identificó?: Gobierno, sector ambiental y la población en general debido a que los problemas en la calidad de aire tienen repercusiones en la salud."
   ]
  },
  {
   "cell_type": "code",
   "execution_count": null,
   "metadata": {},
   "outputs": [],
   "source": []
  }
 ],
 "metadata": {
  "colab": {
   "collapsed_sections": [],
   "provenance": []
  },
  "kernelspec": {
   "display_name": "Python 3 (ipykernel)",
   "language": "python",
   "name": "python3"
  },
  "language_info": {
   "codemirror_mode": {
    "name": "ipython",
    "version": 3
   },
   "file_extension": ".py",
   "mimetype": "text/x-python",
   "name": "python",
   "nbconvert_exporter": "python",
   "pygments_lexer": "ipython3",
   "version": "3.9.12"
  }
 },
 "nbformat": 4,
 "nbformat_minor": 1
}
