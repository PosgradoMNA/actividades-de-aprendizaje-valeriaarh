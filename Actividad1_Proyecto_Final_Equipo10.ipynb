{
  "nbformat": 4,
  "nbformat_minor": 0,
  "metadata": {
    "colab": {
      "provenance": [],
      "collapsed_sections": [],
      "include_colab_link": true
    },
    "kernelspec": {
      "name": "python3",
      "display_name": "Python 3"
    },
    "language_info": {
      "name": "python"
    }
  },
  "cells": [
    {
      "cell_type": "markdown",
      "metadata": {
        "id": "view-in-github",
        "colab_type": "text"
      },
      "source": [
        "<a href=\"https://colab.research.google.com/github/PosgradoMNA/actividades-de-aprendizaje-valeriaarh/blob/main/Actividad1_Proyecto_Final_Equipo10.ipynb\" target=\"_parent\"><img src=\"https://colab.research.google.com/assets/colab-badge.svg\" alt=\"Open In Colab\"/></a>"
      ]
    },
    {
      "cell_type": "markdown",
      "source": [
        "El nombre que caracteriza el conjunto de datos - AirQualityUCI\n",
        "\n",
        "La organización que lo generó - ENEA - National Agency for New Technologies, Energy and Sustainable Economic Development.\n",
        "\n",
        "Incluya un enlace de Internet donde se puedan descargar en línea y enviar como una hoja de cálculo junto con su informe correspondiente - https://archive.ics.uci.edu/ml/machine-learning-databases/00360/\n",
        "(Dataset se encuentra dentro del zip en la liga)\n",
        "\n",
        "Describe el conjunto de datos. ¿Qué datos contiene? - Datos multivariables y series de tiempo. Dataset contiene 9358 instances del promedio por hora de 5 metales dados por los sensores de Air Quality Chemical Multisensor Device.\n",
        "\n",
        "¿Cuáles son algunas de las preguntas de investigación que podría responder con estos datos? Enumere al menos OCHO (no responda las preguntas).\n",
        "1. ¿Cuál es el promedio por hora detectado para el óxido de estaño (PT08.S1(CO))?\n",
        "2. ¿Cuál es el promedio por hora detectado para el dióxido de carbono (CO(GT))?\n",
        "3. ¿Cuál es el promedio por hora detectado para el hidrocarburos no metánicos (NMHC(GT))?\n",
        "4. ¿Cuál es el promedio por hora detectado para el benzeno (C6H6(GT))?\n",
        "5. ¿Cuál es el promedio por hora detectado para el titania (PT08.S2(NMHC))?\n",
        "6. ¿Cuál es el promedio por hora detectado para el grupo de gases muy reactivos (óxido nítrico) (NOx(GT))?\n",
        "7. ¿Cuál es el promedio por hora detectado para el óxido de tunsgeno (PT08.S3(NOx))?\n",
        "8. ¿Cuál es el promedio por hora detectado para el dióxido de nitrógeno (NO2(GT)?\n",
        "9. ¿Cuál es el promedio por hora detectado para el óxido de tunsgeno (nominalmente dirigido a NOx) (PT08.S4(NO2)?\n",
        "10. ¿Cuál es el promedio por hora detectado para el óxido de indio (PT08.S5(O3))?\n",
        "\n",
        "¿Qué actor (empresa, sector de la sociedad, organismo descentralizado, gobierno, etc.) estaría interesado en las preguntas mencionadas que identificó? - Gobierno, sector ambiental y la población en general porque los problemas en la calidad de aire tienen repercusiones en la salud"
      ],
      "metadata": {
        "id": "3mGWbm1lEKJb"
      }
    }
  ]
}