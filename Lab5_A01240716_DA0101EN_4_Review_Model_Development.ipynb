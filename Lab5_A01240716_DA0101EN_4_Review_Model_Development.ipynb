{
  "cells": [
    {
      "cell_type": "markdown",
      "metadata": {
        "id": "view-in-github",
        "colab_type": "text"
      },
      "source": [
        "<a href=\"https://colab.research.google.com/github/PosgradoMNA/actividades-de-aprendizaje-valeriaarh/blob/main/Lab5_A01240716_DA0101EN_4_Review_Model_Development.ipynb\" target=\"_parent\"><img src=\"https://colab.research.google.com/assets/colab-badge.svg\" alt=\"Open In Colab\"/></a>"
      ]
    },
    {
      "cell_type": "markdown",
      "metadata": {
        "id": "JxBUnmfStnQ2"
      },
      "source": [
        "<center>\n",
        "    <img src=\"https://cf-courses-data.s3.us.cloud-object-storage.appdomain.cloud/IBMDeveloperSkillsNetwork-DA0101EN-SkillsNetwork/labs/Module%205/images/IDSNlogo.png\" width=\"300\" alt=\"cognitiveclass.ai logo\"  />\n",
        "</center>\n",
        "\n",
        "#**Módulo 5 - Data Analysis with Python**\n",
        "\n",
        "Ciencia y Analítica de datos\n",
        "\n",
        "Alumna: Valeria Alejandra Ramirez Herrera\n",
        "\n",
        "Matricula: A01240716\n",
        "\n",
        "Profesor:  Dr. María de la Paz Rico / Dr. Jobish Vallikavungal\n",
        "\n",
        "Fecha: 08/Noviembre/2022\n",
        "\n",
        "\n",
        "\n",
        "# Model Evaluation and Refinement\n",
        "\n",
        "Estimated time needed: **30** minutes\n",
        "\n",
        "## Objectives\n",
        "\n",
        "After completing this lab you will be able to:\n",
        "\n",
        "*   Evaluate and refine prediction models\n"
      ]
    },
    {
      "cell_type": "markdown",
      "metadata": {
        "id": "io1LWBFRtnQ6"
      },
      "source": [
        "<h2>Table of Contents</h2>\n",
        "<ul>\n",
        "    <li><a href=\"https://#ref1\">Model Evaluation </a></li>\n",
        "    <li><a href=\"https://#ref2\">Over-fitting, Under-fitting and Model Selection </a></li>\n",
        "    <li><a href=\"https://#ref3\">Ridge Regression </a></li>\n",
        "    <li><a href=\"https://#ref4\">Grid Search</a></li>\n",
        "</ul>\n"
      ]
    },
    {
      "cell_type": "markdown",
      "metadata": {
        "id": "QLM01FY2tnQ7"
      },
      "source": [
        "<h4>Setup</h4>\n"
      ]
    },
    {
      "cell_type": "markdown",
      "metadata": {
        "id": "dEcY4nmNtnQ8"
      },
      "source": [
        "you are running the lab in your  browser, so we will install the libraries using `piplite`\n"
      ]
    },
    {
      "cell_type": "code",
      "execution_count": null,
      "metadata": {
        "colab": {
          "base_uri": "https://localhost:8080/"
        },
        "id": "50Mjg4PDtnQ8",
        "outputId": "2b6de062-38d1-44f3-8430-60691ea00832"
      },
      "outputs": [
        {
          "output_type": "stream",
          "name": "stdout",
          "text": [
            "Looking in indexes: https://pypi.org/simple, https://us-python.pkg.dev/colab-wheels/public/simple/\n",
            "Requirement already satisfied: xlrd in /usr/local/lib/python3.7/dist-packages (1.1.0)\n"
          ]
        }
      ],
      "source": [
        "#you are running the lab in your  browser, so we will install the libraries using ``piplite``\n",
        "#import piplite\n",
        "#import micropip\n",
        "#await piplite.install(['pandas'])\n",
        "#await piplite.install(['matplotlib'])\n",
        "#await piplite.install(['scipy'])\n",
        "#await piplite.install(['seaborn'])\n",
        "#await micropip.install(['ipywidgets'],keep_going=True)\n",
        "#await micropip.install(['tqdm'],keep_going=True)\n",
        "\n",
        "!pip install xlrd # Esta libería incluye piplite"
      ]
    },
    {
      "cell_type": "markdown",
      "metadata": {
        "id": "oHp47nebtnQ9"
      },
      "source": [
        "If you run the lab locally using Anaconda, you can load the correct library and versions by uncommenting the following:\n"
      ]
    },
    {
      "cell_type": "code",
      "execution_count": null,
      "metadata": {
        "id": "PXt6PCU0tnQ-"
      },
      "outputs": [],
      "source": [
        "#install specific version of libraries used in lab\n",
        "#! mamba install pandas==1.3.3 -y\n",
        "#! mamba install numpy=1.21.2 -y\n",
        "#! mamba install sklearn=0.20.1 -y\n",
        "#! mamba install   ipywidgets=7.4.2 -y\n",
        "#! mamba install tqdm"
      ]
    },
    {
      "cell_type": "code",
      "execution_count": null,
      "metadata": {
        "id": "_yAKjzZKtnQ_"
      },
      "outputs": [],
      "source": [
        "import pandas as pd\n",
        "import numpy as np"
      ]
    },
    {
      "cell_type": "markdown",
      "metadata": {
        "id": "n5L7K3A1tnQ_"
      },
      "source": [
        "This function will download the dataset into your browser\n"
      ]
    },
    {
      "cell_type": "code",
      "execution_count": null,
      "metadata": {
        "id": "ZOTSjwN0tnRA"
      },
      "outputs": [],
      "source": [
        "#This function will download the dataset into your browser \n",
        "\n",
        "from pyodide.http import pyfetch\n",
        "\n",
        "async def download(url, filename):\n",
        "    response = await pyfetch(url)\n",
        "    if response.status == 200:\n",
        "        with open(filename, \"wb\") as f:\n",
        "            f.write(await response.bytes())"
      ]
    },
    {
      "cell_type": "code",
      "execution_count": null,
      "metadata": {
        "id": "tKCGxNS-tnRA"
      },
      "outputs": [],
      "source": [
        "import pandas as pd\n",
        "import numpy as np\n"
      ]
    },
    {
      "cell_type": "markdown",
      "metadata": {
        "id": "P4J_i9CFtnRB"
      },
      "source": [
        "This dataset was hosted on IBM Cloud object. Click <a href=\"https://cocl.us/DA101EN_object_storage?utm_medium=Exinfluencer&utm_source=Exinfluencer&utm_content=000026UJ&utm_term=10006555&utm_id=NA-SkillsNetwork-Channel-SkillsNetworkCoursesIBMDeveloperSkillsNetworkDA0101ENSkillsNetwork20235326-2021-01-01\">HERE</a> for free storage.\n"
      ]
    },
    {
      "cell_type": "code",
      "execution_count": null,
      "metadata": {
        "id": "ajwZl8ratnRB"
      },
      "outputs": [],
      "source": [
        "path = 'https://cf-courses-data.s3.us.cloud-object-storage.appdomain.cloud/IBMDeveloperSkillsNetwork-DA0101EN-SkillsNetwork/labs/Data%20files/module_5_auto.csv'"
      ]
    },
    {
      "cell_type": "markdown",
      "metadata": {
        "id": "aAvEyOF_tnRB"
      },
      "source": [
        "you will need to download the dataset; if you are running locally, please comment out the following\n"
      ]
    },
    {
      "cell_type": "code",
      "execution_count": null,
      "metadata": {
        "id": "6pX8JcVstnRC"
      },
      "outputs": [],
      "source": [
        "#you will need to download the dataset; if you are running locally, please comment out the following \n",
        "await download(path, \"auto.csv\")\n",
        "path=\"auto.csv\""
      ]
    },
    {
      "cell_type": "code",
      "execution_count": null,
      "metadata": {
        "id": "9VIJZNyetnRC"
      },
      "outputs": [],
      "source": [
        "\n",
        "df = pd.read_csv(path)"
      ]
    },
    {
      "cell_type": "code",
      "execution_count": null,
      "metadata": {
        "id": "vY8uH3REtnRC"
      },
      "outputs": [],
      "source": [
        "df.to_csv('module_5_auto.csv')"
      ]
    },
    {
      "cell_type": "markdown",
      "metadata": {
        "id": "9umO_QTKtnRC"
      },
      "source": [
        "First, let's only use numeric data:\n"
      ]
    },
    {
      "cell_type": "code",
      "execution_count": null,
      "metadata": {
        "colab": {
          "base_uri": "https://localhost:8080/",
          "height": 317
        },
        "id": "d_1bby9KtnRD",
        "outputId": "73403134-5262-47cf-c549-137ec55903aa"
      },
      "outputs": [
        {
          "output_type": "execute_result",
          "data": {
            "text/plain": [
              "   Unnamed: 0  Unnamed: 0.1  symboling  normalized-losses  wheel-base  \\\n",
              "0           0             0          3                122        88.6   \n",
              "1           1             1          3                122        88.6   \n",
              "2           2             2          1                122        94.5   \n",
              "3           3             3          2                164        99.8   \n",
              "4           4             4          2                164        99.4   \n",
              "\n",
              "     length     width  height  curb-weight  engine-size  ...  stroke  \\\n",
              "0  0.811148  0.890278    48.8         2548          130  ...    2.68   \n",
              "1  0.811148  0.890278    48.8         2548          130  ...    2.68   \n",
              "2  0.822681  0.909722    52.4         2823          152  ...    3.47   \n",
              "3  0.848630  0.919444    54.3         2337          109  ...    3.40   \n",
              "4  0.848630  0.922222    54.3         2824          136  ...    3.40   \n",
              "\n",
              "   compression-ratio  horsepower  peak-rpm  city-mpg  highway-mpg    price  \\\n",
              "0                9.0       111.0    5000.0        21           27  13495.0   \n",
              "1                9.0       111.0    5000.0        21           27  16500.0   \n",
              "2                9.0       154.0    5000.0        19           26  16500.0   \n",
              "3               10.0       102.0    5500.0        24           30  13950.0   \n",
              "4                8.0       115.0    5500.0        18           22  17450.0   \n",
              "\n",
              "   city-L/100km  diesel  gas  \n",
              "0     11.190476       0    1  \n",
              "1     11.190476       0    1  \n",
              "2     12.368421       0    1  \n",
              "3      9.791667       0    1  \n",
              "4     13.055556       0    1  \n",
              "\n",
              "[5 rows x 21 columns]"
            ],
            "text/html": [
              "\n",
              "  <div id=\"df-0071b5d9-584b-40b0-a23b-cc64bcc0b2ac\">\n",
              "    <div class=\"colab-df-container\">\n",
              "      <div>\n",
              "<style scoped>\n",
              "    .dataframe tbody tr th:only-of-type {\n",
              "        vertical-align: middle;\n",
              "    }\n",
              "\n",
              "    .dataframe tbody tr th {\n",
              "        vertical-align: top;\n",
              "    }\n",
              "\n",
              "    .dataframe thead th {\n",
              "        text-align: right;\n",
              "    }\n",
              "</style>\n",
              "<table border=\"1\" class=\"dataframe\">\n",
              "  <thead>\n",
              "    <tr style=\"text-align: right;\">\n",
              "      <th></th>\n",
              "      <th>Unnamed: 0</th>\n",
              "      <th>Unnamed: 0.1</th>\n",
              "      <th>symboling</th>\n",
              "      <th>normalized-losses</th>\n",
              "      <th>wheel-base</th>\n",
              "      <th>length</th>\n",
              "      <th>width</th>\n",
              "      <th>height</th>\n",
              "      <th>curb-weight</th>\n",
              "      <th>engine-size</th>\n",
              "      <th>...</th>\n",
              "      <th>stroke</th>\n",
              "      <th>compression-ratio</th>\n",
              "      <th>horsepower</th>\n",
              "      <th>peak-rpm</th>\n",
              "      <th>city-mpg</th>\n",
              "      <th>highway-mpg</th>\n",
              "      <th>price</th>\n",
              "      <th>city-L/100km</th>\n",
              "      <th>diesel</th>\n",
              "      <th>gas</th>\n",
              "    </tr>\n",
              "  </thead>\n",
              "  <tbody>\n",
              "    <tr>\n",
              "      <th>0</th>\n",
              "      <td>0</td>\n",
              "      <td>0</td>\n",
              "      <td>3</td>\n",
              "      <td>122</td>\n",
              "      <td>88.6</td>\n",
              "      <td>0.811148</td>\n",
              "      <td>0.890278</td>\n",
              "      <td>48.8</td>\n",
              "      <td>2548</td>\n",
              "      <td>130</td>\n",
              "      <td>...</td>\n",
              "      <td>2.68</td>\n",
              "      <td>9.0</td>\n",
              "      <td>111.0</td>\n",
              "      <td>5000.0</td>\n",
              "      <td>21</td>\n",
              "      <td>27</td>\n",
              "      <td>13495.0</td>\n",
              "      <td>11.190476</td>\n",
              "      <td>0</td>\n",
              "      <td>1</td>\n",
              "    </tr>\n",
              "    <tr>\n",
              "      <th>1</th>\n",
              "      <td>1</td>\n",
              "      <td>1</td>\n",
              "      <td>3</td>\n",
              "      <td>122</td>\n",
              "      <td>88.6</td>\n",
              "      <td>0.811148</td>\n",
              "      <td>0.890278</td>\n",
              "      <td>48.8</td>\n",
              "      <td>2548</td>\n",
              "      <td>130</td>\n",
              "      <td>...</td>\n",
              "      <td>2.68</td>\n",
              "      <td>9.0</td>\n",
              "      <td>111.0</td>\n",
              "      <td>5000.0</td>\n",
              "      <td>21</td>\n",
              "      <td>27</td>\n",
              "      <td>16500.0</td>\n",
              "      <td>11.190476</td>\n",
              "      <td>0</td>\n",
              "      <td>1</td>\n",
              "    </tr>\n",
              "    <tr>\n",
              "      <th>2</th>\n",
              "      <td>2</td>\n",
              "      <td>2</td>\n",
              "      <td>1</td>\n",
              "      <td>122</td>\n",
              "      <td>94.5</td>\n",
              "      <td>0.822681</td>\n",
              "      <td>0.909722</td>\n",
              "      <td>52.4</td>\n",
              "      <td>2823</td>\n",
              "      <td>152</td>\n",
              "      <td>...</td>\n",
              "      <td>3.47</td>\n",
              "      <td>9.0</td>\n",
              "      <td>154.0</td>\n",
              "      <td>5000.0</td>\n",
              "      <td>19</td>\n",
              "      <td>26</td>\n",
              "      <td>16500.0</td>\n",
              "      <td>12.368421</td>\n",
              "      <td>0</td>\n",
              "      <td>1</td>\n",
              "    </tr>\n",
              "    <tr>\n",
              "      <th>3</th>\n",
              "      <td>3</td>\n",
              "      <td>3</td>\n",
              "      <td>2</td>\n",
              "      <td>164</td>\n",
              "      <td>99.8</td>\n",
              "      <td>0.848630</td>\n",
              "      <td>0.919444</td>\n",
              "      <td>54.3</td>\n",
              "      <td>2337</td>\n",
              "      <td>109</td>\n",
              "      <td>...</td>\n",
              "      <td>3.40</td>\n",
              "      <td>10.0</td>\n",
              "      <td>102.0</td>\n",
              "      <td>5500.0</td>\n",
              "      <td>24</td>\n",
              "      <td>30</td>\n",
              "      <td>13950.0</td>\n",
              "      <td>9.791667</td>\n",
              "      <td>0</td>\n",
              "      <td>1</td>\n",
              "    </tr>\n",
              "    <tr>\n",
              "      <th>4</th>\n",
              "      <td>4</td>\n",
              "      <td>4</td>\n",
              "      <td>2</td>\n",
              "      <td>164</td>\n",
              "      <td>99.4</td>\n",
              "      <td>0.848630</td>\n",
              "      <td>0.922222</td>\n",
              "      <td>54.3</td>\n",
              "      <td>2824</td>\n",
              "      <td>136</td>\n",
              "      <td>...</td>\n",
              "      <td>3.40</td>\n",
              "      <td>8.0</td>\n",
              "      <td>115.0</td>\n",
              "      <td>5500.0</td>\n",
              "      <td>18</td>\n",
              "      <td>22</td>\n",
              "      <td>17450.0</td>\n",
              "      <td>13.055556</td>\n",
              "      <td>0</td>\n",
              "      <td>1</td>\n",
              "    </tr>\n",
              "  </tbody>\n",
              "</table>\n",
              "<p>5 rows × 21 columns</p>\n",
              "</div>\n",
              "      <button class=\"colab-df-convert\" onclick=\"convertToInteractive('df-0071b5d9-584b-40b0-a23b-cc64bcc0b2ac')\"\n",
              "              title=\"Convert this dataframe to an interactive table.\"\n",
              "              style=\"display:none;\">\n",
              "        \n",
              "  <svg xmlns=\"http://www.w3.org/2000/svg\" height=\"24px\"viewBox=\"0 0 24 24\"\n",
              "       width=\"24px\">\n",
              "    <path d=\"M0 0h24v24H0V0z\" fill=\"none\"/>\n",
              "    <path d=\"M18.56 5.44l.94 2.06.94-2.06 2.06-.94-2.06-.94-.94-2.06-.94 2.06-2.06.94zm-11 1L8.5 8.5l.94-2.06 2.06-.94-2.06-.94L8.5 2.5l-.94 2.06-2.06.94zm10 10l.94 2.06.94-2.06 2.06-.94-2.06-.94-.94-2.06-.94 2.06-2.06.94z\"/><path d=\"M17.41 7.96l-1.37-1.37c-.4-.4-.92-.59-1.43-.59-.52 0-1.04.2-1.43.59L10.3 9.45l-7.72 7.72c-.78.78-.78 2.05 0 2.83L4 21.41c.39.39.9.59 1.41.59.51 0 1.02-.2 1.41-.59l7.78-7.78 2.81-2.81c.8-.78.8-2.07 0-2.86zM5.41 20L4 18.59l7.72-7.72 1.47 1.35L5.41 20z\"/>\n",
              "  </svg>\n",
              "      </button>\n",
              "      \n",
              "  <style>\n",
              "    .colab-df-container {\n",
              "      display:flex;\n",
              "      flex-wrap:wrap;\n",
              "      gap: 12px;\n",
              "    }\n",
              "\n",
              "    .colab-df-convert {\n",
              "      background-color: #E8F0FE;\n",
              "      border: none;\n",
              "      border-radius: 50%;\n",
              "      cursor: pointer;\n",
              "      display: none;\n",
              "      fill: #1967D2;\n",
              "      height: 32px;\n",
              "      padding: 0 0 0 0;\n",
              "      width: 32px;\n",
              "    }\n",
              "\n",
              "    .colab-df-convert:hover {\n",
              "      background-color: #E2EBFA;\n",
              "      box-shadow: 0px 1px 2px rgba(60, 64, 67, 0.3), 0px 1px 3px 1px rgba(60, 64, 67, 0.15);\n",
              "      fill: #174EA6;\n",
              "    }\n",
              "\n",
              "    [theme=dark] .colab-df-convert {\n",
              "      background-color: #3B4455;\n",
              "      fill: #D2E3FC;\n",
              "    }\n",
              "\n",
              "    [theme=dark] .colab-df-convert:hover {\n",
              "      background-color: #434B5C;\n",
              "      box-shadow: 0px 1px 3px 1px rgba(0, 0, 0, 0.15);\n",
              "      filter: drop-shadow(0px 1px 2px rgba(0, 0, 0, 0.3));\n",
              "      fill: #FFFFFF;\n",
              "    }\n",
              "  </style>\n",
              "\n",
              "      <script>\n",
              "        const buttonEl =\n",
              "          document.querySelector('#df-0071b5d9-584b-40b0-a23b-cc64bcc0b2ac button.colab-df-convert');\n",
              "        buttonEl.style.display =\n",
              "          google.colab.kernel.accessAllowed ? 'block' : 'none';\n",
              "\n",
              "        async function convertToInteractive(key) {\n",
              "          const element = document.querySelector('#df-0071b5d9-584b-40b0-a23b-cc64bcc0b2ac');\n",
              "          const dataTable =\n",
              "            await google.colab.kernel.invokeFunction('convertToInteractive',\n",
              "                                                     [key], {});\n",
              "          if (!dataTable) return;\n",
              "\n",
              "          const docLinkHtml = 'Like what you see? Visit the ' +\n",
              "            '<a target=\"_blank\" href=https://colab.research.google.com/notebooks/data_table.ipynb>data table notebook</a>'\n",
              "            + ' to learn more about interactive tables.';\n",
              "          element.innerHTML = '';\n",
              "          dataTable['output_type'] = 'display_data';\n",
              "          await google.colab.output.renderOutput(dataTable, element);\n",
              "          const docLink = document.createElement('div');\n",
              "          docLink.innerHTML = docLinkHtml;\n",
              "          element.appendChild(docLink);\n",
              "        }\n",
              "      </script>\n",
              "    </div>\n",
              "  </div>\n",
              "  "
            ]
          },
          "metadata": {},
          "execution_count": 9
        }
      ],
      "source": [
        "#Uso de datos numéricos solamente\n",
        "df=df._get_numeric_data()\n",
        "df.head()"
      ]
    },
    {
      "cell_type": "markdown",
      "metadata": {
        "id": "xr_NszJ9tnRD"
      },
      "source": [
        "Libraries for plotting:\n"
      ]
    },
    {
      "cell_type": "code",
      "execution_count": null,
      "metadata": {
        "id": "WBcFXn2LtnRD"
      },
      "outputs": [],
      "source": [
        "\n",
        "#Importación de librerías para gráficar\n",
        "from ipywidgets import interact, interactive, fixed, interact_manual"
      ]
    },
    {
      "cell_type": "markdown",
      "metadata": {
        "id": "oUczLtwmtnRD"
      },
      "source": [
        "<h2>Functions for Plotting</h2>\n"
      ]
    },
    {
      "cell_type": "code",
      "execution_count": null,
      "metadata": {
        "id": "nFzNoWt2tnRD"
      },
      "outputs": [],
      "source": [
        "def DistributionPlot(RedFunction, BlueFunction, RedName, BlueName, Title):\n",
        "    width = 12\n",
        "    height = 10\n",
        "    plt.figure(figsize=(width, height))\n",
        "\n",
        "    ax1 = sns.distplot(RedFunction, hist=False, color=\"r\", label=RedName)\n",
        "    ax2 = sns.distplot(BlueFunction, hist=False, color=\"b\", label=BlueName, ax=ax1)\n",
        "\n",
        "    plt.title(Title)\n",
        "    plt.xlabel('Price (in dollars)')\n",
        "    plt.ylabel('Proportion of Cars')\n",
        "\n",
        "    plt.show()\n",
        "    plt.close()"
      ]
    },
    {
      "cell_type": "code",
      "execution_count": null,
      "metadata": {
        "id": "kfkLh2XQtnRE"
      },
      "outputs": [],
      "source": [
        "def PollyPlot(xtrain, xtest, y_train, y_test, lr,poly_transform):\n",
        "    width = 12\n",
        "    height = 10\n",
        "    plt.figure(figsize=(width, height))\n",
        "    \n",
        "    \n",
        "    #training data \n",
        "    #testing data \n",
        "    # lr:  linear regression object \n",
        "    #poly_transform:  polynomial transformation object \n",
        " \n",
        "    xmax=max([xtrain.values.max(), xtest.values.max()])\n",
        "\n",
        "    xmin=min([xtrain.values.min(), xtest.values.min()])\n",
        "\n",
        "    x=np.arange(xmin, xmax, 0.1)\n",
        "\n",
        "\n",
        "    plt.plot(xtrain, y_train, 'ro', label='Training Data')\n",
        "    plt.plot(xtest, y_test, 'go', label='Test Data')\n",
        "    plt.plot(x, lr.predict(poly_transform.fit_transform(x.reshape(-1, 1))), label='Predicted Function')\n",
        "    plt.ylim([-10000, 60000])\n",
        "    plt.ylabel('Price')\n",
        "    plt.legend()"
      ]
    },
    {
      "cell_type": "markdown",
      "metadata": {
        "id": "OgjOg_D0tnRE"
      },
      "source": [
        "<h2 id=\"ref1\">Part 1: Training and Testing</h2>\n",
        "\n",
        "<p>An important step in testing your model is to split your data into training and testing data. We will place the target data <b>price</b> in a separate dataframe <b>y_data</b>:</p>\n"
      ]
    },
    {
      "cell_type": "code",
      "execution_count": null,
      "metadata": {
        "id": "_p7ADV6CtnRE"
      },
      "outputs": [],
      "source": [
        "y_data = df['price']"
      ]
    },
    {
      "cell_type": "markdown",
      "metadata": {
        "id": "4FYktUThtnRE"
      },
      "source": [
        "Drop price data in dataframe **x_data**:\n"
      ]
    },
    {
      "cell_type": "code",
      "execution_count": null,
      "metadata": {
        "id": "mbWxKiKftnRE"
      },
      "outputs": [],
      "source": [
        "x_data=df.drop('price',axis=1)"
      ]
    },
    {
      "cell_type": "markdown",
      "metadata": {
        "id": "b8gx6DDVtnRE"
      },
      "source": [
        "Now, we randomly split our data into training and testing data using the function <b>train_test_split</b>.\n"
      ]
    },
    {
      "cell_type": "code",
      "execution_count": null,
      "metadata": {
        "colab": {
          "base_uri": "https://localhost:8080/"
        },
        "id": "ree6HZ1ZtnRE",
        "outputId": "2e09d48a-25e2-4869-ea53-82d31e905743"
      },
      "outputs": [
        {
          "output_type": "stream",
          "name": "stdout",
          "text": [
            "number of test samples : 21\n",
            "number of training samples: 180\n"
          ]
        }
      ],
      "source": [
        "from sklearn.model_selection import train_test_split\n",
        "\n",
        "\n",
        "x_train, x_test, y_train, y_test = train_test_split(x_data, y_data, test_size=0.10, random_state=1)\n",
        "\n",
        "\n",
        "print(\"number of test samples :\", x_test.shape[0])\n",
        "print(\"number of training samples:\",x_train.shape[0])\n"
      ]
    },
    {
      "cell_type": "markdown",
      "metadata": {
        "id": "jb9NVf2DtnRF"
      },
      "source": [
        "The <b>test_size</b> parameter sets the proportion of data that is split into the testing set. In the above, the testing set is 10% of the total dataset.\n"
      ]
    },
    {
      "cell_type": "markdown",
      "metadata": {
        "id": "p1IJeSsCtnRF"
      },
      "source": [
        "<div class=\"alert alert-danger alertdanger\" style=\"margin-top: 20px\">\n",
        "<h1> Question  #1):</h1>\n",
        "\n",
        "<b>Use the function \"train_test_split\" to split up the dataset such that 40% of the data samples will be utilized for testing. Set the parameter \"random_state\" equal to zero. The output of the function should be the following:  \"x_train1\" , \"x_test1\", \"y_train1\" and  \"y_test1\".</b>\n",
        "\n",
        "</div>\n"
      ]
    },
    {
      "cell_type": "code",
      "execution_count": null,
      "metadata": {
        "colab": {
          "base_uri": "https://localhost:8080/"
        },
        "id": "xKAeYVAytnRF",
        "outputId": "e196d4c5-743a-4e27-f0fa-c11a95a831e7"
      },
      "outputs": [
        {
          "output_type": "stream",
          "name": "stdout",
          "text": [
            "number of test samples : 81\n",
            "number of training samples: 120\n"
          ]
        }
      ],
      "source": [
        "# Write your code below and press Shift+Enter to execute \n",
        "x_train1, x_test1, y_train1, y_test1 = train_test_split(x_data, y_data, test_size = 0.40, random_state=0)\n",
        "\n",
        "#Se imprimen los valores\n",
        "\n",
        "print(\"number of test samples :\", x_test1.shape[0])\n",
        "print(\"number of training samples:\",x_train1.shape[0])"
      ]
    },
    {
      "cell_type": "markdown",
      "metadata": {
        "id": "fijXBCB6tnRF"
      },
      "source": [
        "<details><summary>Click here for the solution</summary>\n",
        "\n",
        "```python\n",
        "x_train1, x_test1, y_train1, y_test1 = train_test_split(x_data, y_data, test_size=0.4, random_state=0) \n",
        "print(\"number of test samples :\", x_test1.shape[0])\n",
        "print(\"number of training samples:\",x_train1.shape[0])\n",
        "```\n",
        "\n",
        "</details>\n"
      ]
    },
    {
      "cell_type": "markdown",
      "metadata": {
        "id": "SjvjDDKntnRF"
      },
      "source": [
        "Let's import <b>LinearRegression</b> from the module <b>linear_model</b>.\n"
      ]
    },
    {
      "cell_type": "code",
      "execution_count": null,
      "metadata": {
        "id": "uLyw86zptnRF"
      },
      "outputs": [],
      "source": [
        "from sklearn.linear_model import LinearRegression"
      ]
    },
    {
      "cell_type": "markdown",
      "metadata": {
        "id": "JhSiYFoKtnRF"
      },
      "source": [
        "We create a Linear Regression object:\n"
      ]
    },
    {
      "cell_type": "code",
      "execution_count": null,
      "metadata": {
        "id": "TYlBXKjjtnRF"
      },
      "outputs": [],
      "source": [
        "lre=LinearRegression()"
      ]
    },
    {
      "cell_type": "markdown",
      "metadata": {
        "id": "Eo5Wny4xtnRG"
      },
      "source": [
        "We fit the model using the feature \"horsepower\":\n"
      ]
    },
    {
      "cell_type": "code",
      "execution_count": null,
      "metadata": {
        "colab": {
          "base_uri": "https://localhost:8080/"
        },
        "id": "2CEtSkEBtnRG",
        "outputId": "1a254bc9-9b47-418e-f34d-b49662efb3e1"
      },
      "outputs": [
        {
          "output_type": "execute_result",
          "data": {
            "text/plain": [
              "LinearRegression()"
            ]
          },
          "metadata": {},
          "execution_count": 20
        }
      ],
      "source": [
        "lre.fit(x_train[['horsepower']], y_train)"
      ]
    },
    {
      "cell_type": "markdown",
      "metadata": {
        "id": "22l49Yw2tnRG"
      },
      "source": [
        "Let's calculate the R^2 on the test data:\n"
      ]
    },
    {
      "cell_type": "code",
      "execution_count": null,
      "metadata": {
        "colab": {
          "base_uri": "https://localhost:8080/"
        },
        "id": "dC_uNK-QtnRG",
        "outputId": "65f7c81c-b46d-40ec-a804-6ac88ead8d19"
      },
      "outputs": [
        {
          "output_type": "execute_result",
          "data": {
            "text/plain": [
              "0.36358755750788263"
            ]
          },
          "metadata": {},
          "execution_count": 21
        }
      ],
      "source": [
        "lre.score(x_test[['horsepower']], y_test)"
      ]
    },
    {
      "cell_type": "markdown",
      "metadata": {
        "id": "-qylkZ_StnRG"
      },
      "source": [
        "We can see the R^2 is much smaller using the test data compared to the training data.\n"
      ]
    },
    {
      "cell_type": "code",
      "execution_count": null,
      "metadata": {
        "colab": {
          "base_uri": "https://localhost:8080/"
        },
        "id": "YCYkIPyotnRG",
        "outputId": "0e23a210-985c-4763-a3c1-86524d1ea3fc"
      },
      "outputs": [
        {
          "output_type": "execute_result",
          "data": {
            "text/plain": [
              "0.6619724197515104"
            ]
          },
          "metadata": {},
          "execution_count": 22
        }
      ],
      "source": [
        "lre.score(x_train[['horsepower']], y_train)"
      ]
    },
    {
      "cell_type": "markdown",
      "metadata": {
        "id": "JYXMi4dItnRG"
      },
      "source": [
        "<div class=\"alert alert-danger alertdanger\" style=\"margin-top: 20px\">\n",
        "<h1> Question  #2): </h1>\n",
        "<b> \n",
        "Find the R^2  on the test data using 40% of the dataset for testing.\n",
        "</b>\n",
        "</div>\n"
      ]
    },
    {
      "cell_type": "code",
      "execution_count": null,
      "metadata": {
        "colab": {
          "base_uri": "https://localhost:8080/"
        },
        "id": "wH1ncVpetnRG",
        "outputId": "4cf51e85-5d5b-4b45-b444-51bbee6ac8bf"
      },
      "outputs": [
        {
          "output_type": "execute_result",
          "data": {
            "text/plain": [
              "0.7139364665406973"
            ]
          },
          "metadata": {},
          "execution_count": 24
        }
      ],
      "source": [
        "# Write your code below and press Shift+Enter to execute \n",
        "lre.fit(x_train1[['horsepower']], y_train1)\n",
        "lre.score(x_test1[['horsepower']], y_test1)"
      ]
    },
    {
      "cell_type": "markdown",
      "metadata": {
        "id": "2Ddf4gdMtnRG"
      },
      "source": [
        "<details><summary>Click here for the solution</summary>\n",
        "\n",
        "```python\n",
        "x_train1, x_test1, y_train1, y_test1 = train_test_split(x_data, y_data, test_size=0.4, random_state=0)\n",
        "lre.fit(x_train1[['horsepower']],y_train1)\n",
        "lre.score(x_test1[['horsepower']],y_test1)\n",
        "\n",
        "```\n",
        "\n",
        "</details>\n"
      ]
    },
    {
      "cell_type": "markdown",
      "metadata": {
        "id": "qzyoBQMGtnRG"
      },
      "source": [
        "Sometimes you do not have sufficient testing data; as a result, you may want to perform cross-validation. Let's go over several methods that you can use for cross-validation.\n"
      ]
    },
    {
      "cell_type": "markdown",
      "metadata": {
        "id": "cOGuZ6xJtnRH"
      },
      "source": [
        "<h2>Cross-Validation Score</h2>\n"
      ]
    },
    {
      "cell_type": "markdown",
      "metadata": {
        "id": "J9RQJrPEtnRH"
      },
      "source": [
        "Let's import <b>model_selection</b> from the module <b>cross_val_score</b>.\n"
      ]
    },
    {
      "cell_type": "code",
      "execution_count": null,
      "metadata": {
        "id": "c6QhWX5YtnRH"
      },
      "outputs": [],
      "source": [
        "from sklearn.model_selection import cross_val_score"
      ]
    },
    {
      "cell_type": "markdown",
      "metadata": {
        "id": "haZWVCyztnRH"
      },
      "source": [
        "We input the object, the feature (\"horsepower\"), and the target data (y_data). The parameter 'cv' determines the number of folds. In this case, it is 4.\n"
      ]
    },
    {
      "cell_type": "code",
      "execution_count": null,
      "metadata": {
        "id": "DOzE5yCWtnRH"
      },
      "outputs": [],
      "source": [
        "Rcross = cross_val_score(lre, x_data[['horsepower']], y_data, cv=4)"
      ]
    },
    {
      "cell_type": "markdown",
      "metadata": {
        "id": "eyZ_o5pjtnRH"
      },
      "source": [
        "The default scoring is R^2. Each element in the array has the average R^2 value for the fold:\n"
      ]
    },
    {
      "cell_type": "code",
      "execution_count": null,
      "metadata": {
        "colab": {
          "base_uri": "https://localhost:8080/"
        },
        "id": "mJ7aRMxKtnRH",
        "outputId": "473fd584-f5f8-4f31-e04a-772f710f5557"
      },
      "outputs": [
        {
          "output_type": "execute_result",
          "data": {
            "text/plain": [
              "array([0.7746232 , 0.51716687, 0.74785353, 0.04839605])"
            ]
          },
          "metadata": {},
          "execution_count": 27
        }
      ],
      "source": [
        "Rcross"
      ]
    },
    {
      "cell_type": "markdown",
      "metadata": {
        "id": "CRoNmaGrtnRH"
      },
      "source": [
        "We can calculate the average and standard deviation of our estimate:\n"
      ]
    },
    {
      "cell_type": "code",
      "execution_count": null,
      "metadata": {
        "colab": {
          "base_uri": "https://localhost:8080/"
        },
        "id": "td0Fgvk_tnRH",
        "outputId": "e8754ccd-1a63-41ae-9449-aa57bf835983"
      },
      "outputs": [
        {
          "output_type": "stream",
          "name": "stdout",
          "text": [
            "The mean of the folds are 0.522009915042119 and the standard deviation is 0.291183944475603\n"
          ]
        }
      ],
      "source": [
        "print(\"The mean of the folds are\", Rcross.mean(), \"and the standard deviation is\" , Rcross.std())"
      ]
    },
    {
      "cell_type": "markdown",
      "metadata": {
        "id": "CoHUaveCtnRH"
      },
      "source": [
        "We can use negative squared error as a score by setting the parameter  'scoring' metric to 'neg_mean_squared_error'.\n"
      ]
    },
    {
      "cell_type": "code",
      "execution_count": null,
      "metadata": {
        "colab": {
          "base_uri": "https://localhost:8080/"
        },
        "id": "8m34giDttnRI",
        "outputId": "b8cf2eed-e6d9-440c-d4a2-27696dcf21d9"
      },
      "outputs": [
        {
          "output_type": "execute_result",
          "data": {
            "text/plain": [
              "array([20254142.84026702, 43745493.2650517 , 12539630.34014931,\n",
              "       17561927.72247591])"
            ]
          },
          "metadata": {},
          "execution_count": 29
        }
      ],
      "source": [
        "-1 * cross_val_score(lre,x_data[['horsepower']], y_data,cv=4,scoring='neg_mean_squared_error')"
      ]
    },
    {
      "cell_type": "markdown",
      "metadata": {
        "id": "6IIrz3zitnRI"
      },
      "source": [
        "<div class=\"alert alert-danger alertdanger\" style=\"margin-top: 20px\">\n",
        "<h1> Question  #3): </h1>\n",
        "<b> \n",
        "Calculate the average R^2 using two folds, then find the average R^2 for the second fold utilizing the \"horsepower\" feature: \n",
        "</b>\n",
        "</div>\n"
      ]
    },
    {
      "cell_type": "code",
      "execution_count": null,
      "metadata": {
        "colab": {
          "base_uri": "https://localhost:8080/"
        },
        "id": "JSU1PpYctnRI",
        "outputId": "2201242b-1b4c-47c6-9264-f01c8075a14f"
      },
      "outputs": [
        {
          "output_type": "stream",
          "name": "stdout",
          "text": [
            "R^2 [0.59015621 0.44319613]\n",
            "The mean of the folds are 0.5166761697127429\n"
          ]
        }
      ],
      "source": [
        "# Write your code below and press Shift+Enter to execute \n",
        "Rcross2 = cross_val_score(lre, x_data[['horsepower']], y_data, cv=2)\n",
        "print('R^2', Rcross2)\n",
        "print('The mean of the folds are', Rcross2.mean())"
      ]
    },
    {
      "cell_type": "markdown",
      "metadata": {
        "id": "F2vJ9SVbtnRI"
      },
      "source": [
        "<details><summary>Click here for the solution</summary>\n",
        "\n",
        "```python\n",
        "Rc=cross_val_score(lre,x_data[['horsepower']], y_data,cv=2)\n",
        "Rc.mean()\n",
        "\n",
        "```\n",
        "\n",
        "</details>\n"
      ]
    },
    {
      "cell_type": "markdown",
      "metadata": {
        "id": "wK9zXujxtnRI"
      },
      "source": [
        "You can also use the function 'cross_val_predict' to predict the output. The function splits up the data into the specified number of folds, with one fold for testing and the other folds are used for training. First, import the function:\n"
      ]
    },
    {
      "cell_type": "code",
      "execution_count": null,
      "metadata": {
        "id": "7nvB-Ia2tnRI"
      },
      "outputs": [],
      "source": [
        "from sklearn.model_selection import cross_val_predict"
      ]
    },
    {
      "cell_type": "markdown",
      "metadata": {
        "id": "Zr28u6EctnRI"
      },
      "source": [
        "We input the object, the feature <b>\"horsepower\"</b>, and the target data <b>y_data</b>. The parameter 'cv' determines the number of folds. In this case, it is 4. We can produce an output:\n"
      ]
    },
    {
      "cell_type": "code",
      "execution_count": null,
      "metadata": {
        "id": "OREen5VAtnRI"
      },
      "outputs": [],
      "source": [
        "yhat = cross_val_predict(lre,x_data[['horsepower']], y_data,cv=4)\n",
        "yhat[0:5]"
      ]
    },
    {
      "cell_type": "markdown",
      "metadata": {
        "id": "TbmljaMbtnRK"
      },
      "source": [
        "<h2 id=\"ref2\">Part 2: Overfitting, Underfitting and Model Selection</h2>\n",
        "\n",
        "<p>It turns out that the test data, sometimes referred to as the \"out of sample data\", is a much better measure of how well your model performs in the real world.  One reason for this is overfitting.\n",
        "\n",
        "Let's go over some examples. It turns out these differences are more apparent in Multiple Linear Regression and Polynomial Regression so we will explore overfitting in that context.</p>\n"
      ]
    },
    {
      "cell_type": "markdown",
      "metadata": {
        "id": "JWvpdG0vtnRL"
      },
      "source": [
        "Let's create Multiple Linear Regression objects and train the model using <b>'horsepower'</b>, <b>'curb-weight'</b>, <b>'engine-size'</b> and <b>'highway-mpg'</b> as features.\n"
      ]
    },
    {
      "cell_type": "code",
      "execution_count": null,
      "metadata": {
        "colab": {
          "base_uri": "https://localhost:8080/"
        },
        "id": "JEG5ld9itnRL",
        "outputId": "ee254792-492b-45de-a168-b611c585a321"
      },
      "outputs": [
        {
          "output_type": "execute_result",
          "data": {
            "text/plain": [
              "LinearRegression()"
            ]
          },
          "metadata": {},
          "execution_count": 32
        }
      ],
      "source": [
        "lr = LinearRegression()\n",
        "lr.fit(x_train[['horsepower', 'curb-weight', 'engine-size', 'highway-mpg']], y_train)"
      ]
    },
    {
      "cell_type": "markdown",
      "metadata": {
        "id": "ImjwtLu_tnRL"
      },
      "source": [
        "Prediction using training data:\n"
      ]
    },
    {
      "cell_type": "code",
      "execution_count": null,
      "metadata": {
        "colab": {
          "base_uri": "https://localhost:8080/"
        },
        "id": "Oyd4oMsmtnRL",
        "outputId": "5290ce0c-9ceb-4d54-8a0a-2a483dae6dc7"
      },
      "outputs": [
        {
          "output_type": "execute_result",
          "data": {
            "text/plain": [
              "array([ 7426.6731551 , 28323.75090803, 14213.38819709,  4052.34146983,\n",
              "       34500.19124244])"
            ]
          },
          "metadata": {},
          "execution_count": 33
        }
      ],
      "source": [
        "yhat_train = lr.predict(x_train[['horsepower', 'curb-weight', 'engine-size', 'highway-mpg']])\n",
        "yhat_train[0:5]"
      ]
    },
    {
      "cell_type": "markdown",
      "metadata": {
        "id": "YPmaGglTtnRL"
      },
      "source": [
        "Prediction using test data:\n"
      ]
    },
    {
      "cell_type": "code",
      "execution_count": null,
      "metadata": {
        "colab": {
          "base_uri": "https://localhost:8080/"
        },
        "id": "m48NFmVPtnRL",
        "outputId": "07a5c9da-67f4-42d3-ace4-c9740ded9415"
      },
      "outputs": [
        {
          "output_type": "execute_result",
          "data": {
            "text/plain": [
              "array([11349.35089149,  5884.11059106, 11208.6928275 ,  6641.07786278,\n",
              "       15565.79920282])"
            ]
          },
          "metadata": {},
          "execution_count": 34
        }
      ],
      "source": [
        "yhat_test = lr.predict(x_test[['horsepower', 'curb-weight', 'engine-size', 'highway-mpg']])\n",
        "yhat_test[0:5]"
      ]
    },
    {
      "cell_type": "markdown",
      "metadata": {
        "id": "UWWSB3OvtnRL"
      },
      "source": [
        "Let's perform some model evaluation using our training and testing data separately. First, we import the seaborn and matplotlib library for plotting.\n"
      ]
    },
    {
      "cell_type": "code",
      "execution_count": null,
      "metadata": {
        "id": "eTp04k5AtnRL"
      },
      "outputs": [],
      "source": [
        "import matplotlib.pyplot as plt\n",
        "%matplotlib inline\n",
        "import seaborn as sns"
      ]
    },
    {
      "cell_type": "markdown",
      "metadata": {
        "id": "vPwbCqyJtnRL"
      },
      "source": [
        "Let's examine the distribution of the predicted values of the training data.\n"
      ]
    },
    {
      "cell_type": "code",
      "execution_count": null,
      "metadata": {
        "colab": {
          "base_uri": "https://localhost:8080/",
          "height": 712
        },
        "id": "OX7ZGrKOtnRL",
        "outputId": "0ada4a39-b49c-4b02-f16b-8111d2b8cddd"
      },
      "outputs": [
        {
          "output_type": "stream",
          "name": "stderr",
          "text": [
            "/usr/local/lib/python3.7/dist-packages/seaborn/distributions.py:2619: FutureWarning: `distplot` is a deprecated function and will be removed in a future version. Please adapt your code to use either `displot` (a figure-level function with similar flexibility) or `kdeplot` (an axes-level function for kernel density plots).\n",
            "  warnings.warn(msg, FutureWarning)\n",
            "/usr/local/lib/python3.7/dist-packages/seaborn/distributions.py:2619: FutureWarning: `distplot` is a deprecated function and will be removed in a future version. Please adapt your code to use either `displot` (a figure-level function with similar flexibility) or `kdeplot` (an axes-level function for kernel density plots).\n",
            "  warnings.warn(msg, FutureWarning)\n"
          ]
        },
        {
          "output_type": "display_data",
          "data": {
            "text/plain": [
              "<Figure size 864x720 with 1 Axes>"
            ],
            "image/png": "[encoded data removed]"
          },
          "metadata": {
            "needs_background": "light"
          }
        }
      ],
      "source": [
        "Title = 'Distribution  Plot of  Predicted Value Using Training Data vs Training Data Distribution'\n",
        "DistributionPlot(y_train, yhat_train, \"Actual Values (Train)\", \"Predicted Values (Train)\", Title)"
      ]
    },
    {
      "cell_type": "markdown",
      "metadata": {
        "id": "GllN3x8EtnRL"
      },
      "source": [
        "Figure 1: Plot of predicted values using the training data compared to the actual values of the training data.\n"
      ]
    },
    {
      "cell_type": "markdown",
      "metadata": {
        "id": "wO4_ioSLtnRM"
      },
      "source": [
        "So far, the model seems to be doing well in learning from the training dataset. But what happens when the model encounters new data from the testing dataset? When the model generates new values from the test data, we see the distribution of the predicted values is much different from the actual target values.\n"
      ]
    },
    {
      "cell_type": "code",
      "execution_count": null,
      "metadata": {
        "colab": {
          "base_uri": "https://localhost:8080/",
          "height": 712
        },
        "id": "zt378edytnRM",
        "outputId": "2a4bfc15-d317-43d1-f288-cd07af3f2dcb"
      },
      "outputs": [
        {
          "output_type": "stream",
          "name": "stderr",
          "text": [
            "/usr/local/lib/python3.7/dist-packages/seaborn/distributions.py:2619: FutureWarning: `distplot` is a deprecated function and will be removed in a future version. Please adapt your code to use either `displot` (a figure-level function with similar flexibility) or `kdeplot` (an axes-level function for kernel density plots).\n",
            "  warnings.warn(msg, FutureWarning)\n",
            "/usr/local/lib/python3.7/dist-packages/seaborn/distributions.py:2619: FutureWarning: `distplot` is a deprecated function and will be removed in a future version. Please adapt your code to use either `displot` (a figure-level function with similar flexibility) or `kdeplot` (an axes-level function for kernel density plots).\n",
            "  warnings.warn(msg, FutureWarning)\n"
          ]
        },
        {
          "output_type": "display_data",
          "data": {
            "text/plain": [
              "<Figure size 864x720 with 1 Axes>"
            ],
            "image/png": "[encoded data removed]"
          },
          "metadata": {
            "needs_background": "light"
          }
        }
      ],
      "source": [
        "Title='Distribution  Plot of  Predicted Value Using Test Data vs Data Distribution of Test Data'\n",
        "DistributionPlot(y_test,yhat_test,\"Actual Values (Test)\",\"Predicted Values (Test)\",Title)"
      ]
    },
    {
      "cell_type": "markdown",
      "metadata": {
        "id": "V0bcSuyvtnRM"
      },
      "source": [
        "Figure 2: Plot of predicted value using the test data compared to the actual values of the test data.\n"
      ]
    },
    {
      "cell_type": "markdown",
      "metadata": {
        "id": "aVZpbeFxtnRM"
      },
      "source": [
        "<p>Comparing Figure 1 and Figure 2, it is evident that the distribution of the test data in Figure 1 is much better at fitting the data. This difference in Figure 2 is apparent in the range of 5000 to 15,000. This is where the shape of the distribution is extremely different. Let's see if polynomial regression also exhibits a drop in the prediction accuracy when analysing the test dataset.</p>\n"
      ]
    },
    {
      "cell_type": "code",
      "execution_count": null,
      "metadata": {
        "id": "0t3R_v72tnRM"
      },
      "outputs": [],
      "source": [
        "from sklearn.preprocessing import PolynomialFeatures"
      ]
    },
    {
      "cell_type": "markdown",
      "metadata": {
        "id": "Pnfo0wv0tnRM"
      },
      "source": [
        "<h4>Overfitting</h4>\n",
        "<p>Overfitting occurs when the model fits the noise, but not the underlying process. Therefore, when testing your model using the test set, your model does not perform as well since it is modelling noise, not the underlying process that generated the relationship. Let's create a degree 5 polynomial model.</p>\n"
      ]
    },
    {
      "cell_type": "markdown",
      "metadata": {
        "id": "HIpmTox3tnRM"
      },
      "source": [
        "Let's use 55 percent of the data for training and the rest for testing:\n"
      ]
    },
    {
      "cell_type": "code",
      "execution_count": null,
      "metadata": {
        "id": "HCgqW-QstnRM"
      },
      "outputs": [],
      "source": [
        "x_train, x_test, y_train, y_test = train_test_split(x_data, y_data, test_size=0.45, random_state=0)"
      ]
    },
    {
      "cell_type": "markdown",
      "metadata": {
        "id": "XwDVfyxAtnRM"
      },
      "source": [
        "We will perform a degree 5 polynomial transformation on the feature <b>'horsepower'</b>.\n"
      ]
    },
    {
      "cell_type": "code",
      "execution_count": null,
      "metadata": {
        "colab": {
          "base_uri": "https://localhost:8080/"
        },
        "id": "Rt1JlfFmtnRM",
        "outputId": "c7822791-42a8-4db2-9a5e-3f260b4c56ae"
      },
      "outputs": [
        {
          "output_type": "execute_result",
          "data": {
            "text/plain": [
              "PolynomialFeatures(degree=5)"
            ]
          },
          "metadata": {},
          "execution_count": 40
        }
      ],
      "source": [
        "pr = PolynomialFeatures(degree=5)\n",
        "x_train_pr = pr.fit_transform(x_train[['horsepower']])\n",
        "x_test_pr = pr.fit_transform(x_test[['horsepower']])\n",
        "pr"
      ]
    },
    {
      "cell_type": "markdown",
      "metadata": {
        "id": "K3xqPjR7tnRM"
      },
      "source": [
        "Now, let's create a Linear Regression model \"poly\" and train it.\n"
      ]
    },
    {
      "cell_type": "code",
      "execution_count": null,
      "metadata": {
        "colab": {
          "base_uri": "https://localhost:8080/"
        },
        "id": "bDeGlRy5tnRM",
        "outputId": "93bdad72-551d-4538-a20a-bff6a0d5a68a"
      },
      "outputs": [
        {
          "output_type": "execute_result",
          "data": {
            "text/plain": [
              "LinearRegression()"
            ]
          },
          "metadata": {},
          "execution_count": 42
        }
      ],
      "source": [
        "poly = LinearRegression()\n",
        "poly.fit(x_train_pr, y_train)"
      ]
    },
    {
      "cell_type": "markdown",
      "metadata": {
        "id": "JmbJqv2ktnRM"
      },
      "source": [
        "We can see the output of our model using the method \"predict.\" We assign the values to \"yhat\".\n"
      ]
    },
    {
      "cell_type": "code",
      "execution_count": null,
      "metadata": {
        "colab": {
          "base_uri": "https://localhost:8080/"
        },
        "id": "qUzqrKYHtnRM",
        "outputId": "7ee2ad12-1f10-430f-9028-79dce2b71bbd"
      },
      "outputs": [
        {
          "output_type": "execute_result",
          "data": {
            "text/plain": [
              "array([ 6728.65561887,  7307.98782321, 12213.78770965, 18893.24804015,\n",
              "       19995.95195136])"
            ]
          },
          "metadata": {},
          "execution_count": 43
        }
      ],
      "source": [
        "yhat = poly.predict(x_test_pr)\n",
        "yhat[0:5]"
      ]
    },
    {
      "cell_type": "markdown",
      "metadata": {
        "id": "mmlY2B6TtnRN"
      },
      "source": [
        "Let's take the first five predicted values and compare it to the actual targets.\n"
      ]
    },
    {
      "cell_type": "code",
      "execution_count": null,
      "metadata": {
        "colab": {
          "base_uri": "https://localhost:8080/"
        },
        "id": "YdDmfwy0tnRN",
        "outputId": "dc1cbcc2-30dc-4654-8af7-625b0b1eb490"
      },
      "outputs": [
        {
          "output_type": "stream",
          "name": "stdout",
          "text": [
            "Predicted values: [ 6728.65561887  7307.98782321 12213.78770965 18893.24804015]\n",
            "True values: [ 6295. 10698. 13860. 13499.]\n"
          ]
        }
      ],
      "source": [
        "print(\"Predicted values:\", yhat[0:4])\n",
        "print(\"True values:\", y_test[0:4].values)"
      ]
    },
    {
      "cell_type": "markdown",
      "metadata": {
        "id": "shNr9OmAtnRN"
      },
      "source": [
        "We will use the function \"PollyPlot\" that we defined at the beginning of the lab to display the training data, testing data, and the predicted function.\n"
      ]
    },
    {
      "cell_type": "code",
      "execution_count": null,
      "metadata": {
        "id": "VVCrRI_OtnRN"
      },
      "outputs": [],
      "source": [
        "PollyPlot(x_train[['horsepower']], x_test[['horsepower']], y_train, y_test, poly,pr)"
      ]
    },
    {
      "cell_type": "markdown",
      "metadata": {
        "id": "sM1o31n5tnRN"
      },
      "source": [
        "Figure 3: A polynomial regression model where red dots represent training data, green dots represent test data, and the blue line represents the model prediction.\n"
      ]
    },
    {
      "cell_type": "markdown",
      "metadata": {
        "id": "SPTduEKAtnRN"
      },
      "source": [
        "We see that the estimated function appears to track the data but around 200 horsepower, the function begins to diverge from the data points.\n"
      ]
    },
    {
      "cell_type": "markdown",
      "metadata": {
        "id": "44fgqkRmtnRN"
      },
      "source": [
        "R^2 of the training data:\n"
      ]
    },
    {
      "cell_type": "code",
      "execution_count": null,
      "metadata": {
        "colab": {
          "base_uri": "https://localhost:8080/"
        },
        "id": "g-vxVrIctnRN",
        "outputId": "5486d658-7339-482c-9871-7510125826b2"
      },
      "outputs": [
        {
          "output_type": "execute_result",
          "data": {
            "text/plain": [
              "0.556771690212023"
            ]
          },
          "metadata": {},
          "execution_count": 45
        }
      ],
      "source": [
        "poly.score(x_train_pr, y_train)"
      ]
    },
    {
      "cell_type": "markdown",
      "metadata": {
        "id": "4jYH1WhMtnRN"
      },
      "source": [
        "R^2 of the test data:\n"
      ]
    },
    {
      "cell_type": "code",
      "execution_count": null,
      "metadata": {
        "colab": {
          "base_uri": "https://localhost:8080/"
        },
        "id": "OXuQ7c7ztnRN",
        "outputId": "e780643b-615c-45c9-b94f-d9db0ee96cab"
      },
      "outputs": [
        {
          "output_type": "execute_result",
          "data": {
            "text/plain": [
              "-29.87134030204415"
            ]
          },
          "metadata": {},
          "execution_count": 46
        }
      ],
      "source": [
        "poly.score(x_test_pr, y_test)"
      ]
    },
    {
      "cell_type": "markdown",
      "metadata": {
        "id": "Ax-jf7tFtnRN"
      },
      "source": [
        "We see the R^2 for the training data is 0.5567 while the R^2 on the test data was -29.87.  The lower the R^2, the worse the model. A negative R^2 is a sign of overfitting.\n"
      ]
    },
    {
      "cell_type": "markdown",
      "metadata": {
        "id": "sLJad9sctnRN"
      },
      "source": [
        "Let's see how the R^2 changes on the test data for different order polynomials and then plot the results:\n"
      ]
    },
    {
      "cell_type": "code",
      "execution_count": null,
      "metadata": {
        "colab": {
          "base_uri": "https://localhost:8080/",
          "height": 313
        },
        "id": "n9aXZxFXtnRN",
        "outputId": "153908c0-20f1-44eb-a7b7-56dbb6db6b32"
      },
      "outputs": [
        {
          "output_type": "execute_result",
          "data": {
            "text/plain": [
              "Text(3, 0.75, 'Maximum R^2 ')"
            ]
          },
          "metadata": {},
          "execution_count": 48
        },
        {
          "output_type": "display_data",
          "data": {
            "text/plain": [
              "<Figure size 432x288 with 1 Axes>"
            ],
            "image/png": "[encoded data removed]"
          },
          "metadata": {
            "needs_background": "light"
          }
        }
      ],
      "source": [
        "Rsqu_test = []\n",
        "\n",
        "order = [1, 2, 3, 4]\n",
        "for n in order:\n",
        "    pr = PolynomialFeatures(degree=n)\n",
        "    \n",
        "    x_train_pr = pr.fit_transform(x_train[['horsepower']])\n",
        "    \n",
        "    x_test_pr = pr.fit_transform(x_test[['horsepower']])    \n",
        "    \n",
        "    lr.fit(x_train_pr, y_train)\n",
        "    \n",
        "    Rsqu_test.append(lr.score(x_test_pr, y_test))\n",
        "\n",
        "plt.plot(order, Rsqu_test)\n",
        "plt.xlabel('order')\n",
        "plt.ylabel('R^2')\n",
        "plt.title('R^2 Using Test Data')\n",
        "plt.text(3, 0.75, 'Maximum R^2 ')    "
      ]
    },
    {
      "cell_type": "markdown",
      "metadata": {
        "id": "hyInMBt7tnRN"
      },
      "source": [
        "We see the R^2 gradually increases until an order three polynomial is used. Then, the R^2 dramatically decreases at an order four polynomial.\n"
      ]
    },
    {
      "cell_type": "markdown",
      "metadata": {
        "id": "3nmwy_4atnRN"
      },
      "source": [
        "The following function will be used in the next section. Please run the cell below.\n"
      ]
    },
    {
      "cell_type": "code",
      "execution_count": null,
      "metadata": {
        "id": "QG3XuMaftnRO"
      },
      "outputs": [],
      "source": [
        "def f(order, test_data):\n",
        "    x_train, x_test, y_train, y_test = train_test_split(x_data, y_data, test_size=test_data, random_state=0)\n",
        "    pr = PolynomialFeatures(degree=order)\n",
        "    x_train_pr = pr.fit_transform(x_train[['horsepower']])\n",
        "    x_test_pr = pr.fit_transform(x_test[['horsepower']])\n",
        "    poly = LinearRegression()\n",
        "    poly.fit(x_train_pr,y_train)\n",
        "    PollyPlot(x_train[['horsepower']], x_test[['horsepower']], y_train,y_test, poly, pr)"
      ]
    },
    {
      "cell_type": "markdown",
      "metadata": {
        "id": "079BjulYtnRO"
      },
      "source": [
        "The following interface allows you to experiment with different polynomial orders and different amounts of data.\n"
      ]
    },
    {
      "cell_type": "code",
      "execution_count": null,
      "metadata": {
        "colab": {
          "base_uri": "https://localhost:8080/",
          "height": 677,
          "referenced_widgets": [
            "1156a2e6df2347f8b166e46b0c078279",
            "8c5011b209e4440089641c1740433008",
            "8553bf73ece04a4a84a3f8f8ee9d8937",
            "d212da1d028148aca91d201b45a97b65",
            "c0171ad1064f4a5bb6943d7a5de973d4",
            "bbd377e037ed45a09e8c5e6beaf3873f",
            "0a6b7db0ad3c41d8b6d179e48f9af567",
            "d968fe76f0c741fd93bfdb54bd80f2f0",
            "c437eac079764615b6fa83486f9e1872",
            "257ce04de94f4ffa9bab11a165cc59b5"
          ]
        },
        "id": "rUaJJF4ItnRO",
        "outputId": "e1e2fd7f-dc59-4581-e08f-bcbfa2b3338d"
      },
      "outputs": [
        {
          "output_type": "display_data",
          "data": {
            "text/plain": [
              "interactive(children=(IntSlider(value=3, description='order', max=6), FloatSlider(value=0.45, description='tes…"
            ],
            "application/vnd.jupyter.widget-view+json": {
              "version_major": 2,
              "version_minor": 0,
              "model_id": "1156a2e6df2347f8b166e46b0c078279"
            }
          },
          "metadata": {}
        },
        {
          "output_type": "execute_result",
          "data": {
            "text/plain": [
              "<function __main__.f(order, test_data)>"
            ]
          },
          "metadata": {},
          "execution_count": 50
        }
      ],
      "source": [
        "interact(f, order=(0, 6, 1), test_data=(0.05, 0.95, 0.05))"
      ]
    },
    {
      "cell_type": "markdown",
      "metadata": {
        "id": "xohTvzActnRO"
      },
      "source": [
        "<div class=\"alert alert-danger alertdanger\" style=\"margin-top: 20px\">\n",
        "<h1> Question  #4a):</h1>\n",
        "\n",
        "<b>We can perform polynomial transformations with more than one feature. Create a \"PolynomialFeatures\" object \"pr1\" of degree two.</b>\n",
        "\n",
        "</div>\n"
      ]
    },
    {
      "cell_type": "code",
      "execution_count": null,
      "metadata": {
        "id": "EoR_BSA3tnRO"
      },
      "outputs": [],
      "source": [
        "# Write your code below and press Shift+Enter to execute \n",
        "pr1 = PolynomialFeatures(degree=2)"
      ]
    },
    {
      "cell_type": "markdown",
      "metadata": {
        "id": "dRBVR6txtnRO"
      },
      "source": [
        "<details><summary>Click here for the solution</summary>\n",
        "\n",
        "```python\n",
        "pr1=PolynomialFeatures(degree=2)\n",
        "\n",
        "```\n",
        "\n",
        "</details>\n"
      ]
    },
    {
      "cell_type": "markdown",
      "metadata": {
        "id": "Zc9EF-S4tnRO"
      },
      "source": [
        "<div class=\"alert alert-danger alertdanger\" style=\"margin-top: 20px\">\n",
        "<h1> Question  #4b): </h1>\n",
        "\n",
        "<b> \n",
        " Transform the training and testing samples for the features 'horsepower', 'curb-weight', 'engine-size' and 'highway-mpg'. Hint: use the method \"fit_transform\".</b>\n",
        "</div>\n"
      ]
    },
    {
      "cell_type": "code",
      "execution_count": null,
      "metadata": {
        "colab": {
          "base_uri": "https://localhost:8080/"
        },
        "id": "Z546SAB2tnRO",
        "outputId": "05a7401e-7f1e-4e66-acd0-389974c0eba5"
      },
      "outputs": [
        {
          "output_type": "execute_result",
          "data": {
            "text/plain": [
              "PolynomialFeatures()"
            ]
          },
          "metadata": {},
          "execution_count": 52
        }
      ],
      "source": [
        "# Write your code below and press Shift+Enter to execute \n",
        "\n",
        "x_train_pr1 = pr.fit_transform(x_train[['horsepower', 'curb-weight', 'engine-size','highway-mpg']])\n",
        "x_test_pr1 = pr.fit_transform(x_test[['horsepower', 'curb-weight', 'engine-size','highway-mpg']])\n",
        "pr1"
      ]
    },
    {
      "cell_type": "markdown",
      "metadata": {
        "id": "ZlF_NMwqtnRO"
      },
      "source": [
        "<details><summary>Click here for the solution</summary>\n",
        "\n",
        "```python\n",
        "x_train_pr1=pr1.fit_transform(x_train[['horsepower', 'curb-weight', 'engine-size', 'highway-mpg']])\n",
        "\n",
        "x_test_pr1=pr1.fit_transform(x_test[['horsepower', 'curb-weight', 'engine-size', 'highway-mpg']])\n",
        "\n",
        "\n",
        "```\n",
        "\n",
        "</details>\n"
      ]
    },
    {
      "cell_type": "markdown",
      "metadata": {
        "id": "Wqt4hOrPtnRO"
      },
      "source": [
        "<!-- The answer is below:\n",
        "\n",
        "x_train_pr1=pr.fit_transform(x_train[['horsepower', 'curb-weight', 'engine-size', 'highway-mpg']])\n",
        "x_test_pr1=pr.fit_transform(x_test[['horsepower', 'curb-weight', 'engine-size', 'highway-mpg']])\n",
        "\n",
        "-->\n"
      ]
    },
    {
      "cell_type": "markdown",
      "metadata": {
        "id": "VUvt9A5ztnRO"
      },
      "source": [
        "<div class=\"alert alert-danger alertdanger\" style=\"margin-top: 20px\">\n",
        "<h1> Question  #4c): </h1>\n",
        "<b> \n",
        "How many dimensions does the new feature have? Hint: use the attribute \"shape\".\n",
        "</b>\n",
        "</div>\n"
      ]
    },
    {
      "cell_type": "code",
      "execution_count": null,
      "metadata": {
        "colab": {
          "base_uri": "https://localhost:8080/"
        },
        "id": "9GRAjE8CtnRO",
        "outputId": "596f0253-5a3b-4130-fd1e-610f0a233d98"
      },
      "outputs": [
        {
          "output_type": "execute_result",
          "data": {
            "text/plain": [
              "(110, 70)"
            ]
          },
          "metadata": {},
          "execution_count": 53
        }
      ],
      "source": [
        "# Write your code below and press Shift+Enter to execute \n",
        "x_train_pr1.shape"
      ]
    },
    {
      "cell_type": "markdown",
      "metadata": {
        "id": "gRfCx4GFtnRO"
      },
      "source": [
        "<details><summary>Click here for the solution</summary>\n",
        "\n",
        "```python\n",
        "x_train_pr1.shape #there are now 15 features\n",
        "\n",
        "\n",
        "```\n",
        "\n",
        "</details>\n"
      ]
    },
    {
      "cell_type": "markdown",
      "metadata": {
        "id": "InxN2W_gtnRP"
      },
      "source": [
        "<div class=\"alert alert-danger alertdanger\" style=\"margin-top: 20px\">\n",
        "<h1> Question  #4d): </h1>\n",
        "\n",
        "<b> \n",
        "Create a linear regression model \"poly1\". Train the object using the method \"fit\" using the polynomial features.</b>\n",
        "</div>\n"
      ]
    },
    {
      "cell_type": "code",
      "execution_count": null,
      "metadata": {
        "colab": {
          "base_uri": "https://localhost:8080/"
        },
        "id": "wYWLgEKLtnRP",
        "outputId": "9f977c9f-e14d-48d7-de48-75af79e48d5e"
      },
      "outputs": [
        {
          "output_type": "execute_result",
          "data": {
            "text/plain": [
              "LinearRegression()"
            ]
          },
          "metadata": {},
          "execution_count": 55
        }
      ],
      "source": [
        "# Write your code below and press Shift+Enter to execute \n",
        "poly1 = LinearRegression()\n",
        "poly1.fit(x_train_pr1, y_train)"
      ]
    },
    {
      "cell_type": "markdown",
      "metadata": {
        "id": "Mto3O5cvtnRP"
      },
      "source": [
        "<details><summary>Click here for the solution</summary>\n",
        "\n",
        "```python\n",
        "poly1=LinearRegression().fit(x_train_pr1,y_train)\n",
        "\n",
        "\n",
        "```\n",
        "\n",
        "</details>\n"
      ]
    },
    {
      "cell_type": "markdown",
      "metadata": {
        "id": "Gs4roc0ttnRP"
      },
      "source": [
        " <div class=\"alert alert-danger alertdanger\" style=\"margin-top: 20px\">\n",
        "<h1> Question  #4e): </h1>\n",
        "<b>Use the method  \"predict\" to predict an output on the polynomial features, then use the function \"DistributionPlot\" to display the distribution of the predicted test output vs. the actual test data.</b>\n",
        "</div>\n"
      ]
    },
    {
      "cell_type": "code",
      "execution_count": null,
      "metadata": {
        "colab": {
          "base_uri": "https://localhost:8080/",
          "height": 712
        },
        "id": "mYEReqFYtnRP",
        "outputId": "f0b5b7cf-5d46-4390-b459-3912d207bcf6"
      },
      "outputs": [
        {
          "output_type": "stream",
          "name": "stderr",
          "text": [
            "/usr/local/lib/python3.7/dist-packages/seaborn/distributions.py:2619: FutureWarning: `distplot` is a deprecated function and will be removed in a future version. Please adapt your code to use either `displot` (a figure-level function with similar flexibility) or `kdeplot` (an axes-level function for kernel density plots).\n",
            "  warnings.warn(msg, FutureWarning)\n",
            "/usr/local/lib/python3.7/dist-packages/seaborn/distributions.py:2619: FutureWarning: `distplot` is a deprecated function and will be removed in a future version. Please adapt your code to use either `displot` (a figure-level function with similar flexibility) or `kdeplot` (an axes-level function for kernel density plots).\n",
            "  warnings.warn(msg, FutureWarning)\n"
          ]
        },
        {
          "output_type": "display_data",
          "data": {
            "text/plain": [
              "<Figure size 864x720 with 1 Axes>"
            ],
            "image/png": "[encoded data removed]"
          },
          "metadata": {
            "needs_background": "light"
          }
        }
      ],
      "source": [
        "# Write your code below and press Shift+Enter to execute \n",
        "yhat_test1=poly1.predict(x_test_pr1)\n",
        "\n",
        "Title='Distribution  Plot of  Predicted Value Using Test Data vs Data Distribution of Test Data'\n",
        "\n",
        "DistributionPlot(y_test, yhat_test1, \"Actual Values (Test)\", \"Predicted Values (Test)\", Title)\n"
      ]
    },
    {
      "cell_type": "markdown",
      "metadata": {
        "id": "rU-4LpiztnRP"
      },
      "source": [
        "<details><summary>Click here for the solution</summary>\n",
        "\n",
        "```python\n",
        "yhat_test1=poly1.predict(x_test_pr1)\n",
        "\n",
        "Title='Distribution  Plot of  Predicted Value Using Test Data vs Data Distribution of Test Data'\n",
        "\n",
        "DistributionPlot(y_test, yhat_test1, \"Actual Values (Test)\", \"Predicted Values (Test)\", Title)\n",
        "\n",
        "```\n",
        "\n",
        "</details>\n"
      ]
    },
    {
      "cell_type": "markdown",
      "metadata": {
        "id": "e1ceBJoDtnRP"
      },
      "source": [
        "<div class=\"alert alert-danger alertdanger\" style=\"margin-top: 20px\">\n",
        "<h1> Question  #4f): </h1>\n",
        "\n",
        "<b>Using the distribution plot above, describe (in words) the two regions where the predicted prices are less accurate than the actual prices.</b>\n",
        "\n",
        "</div>\n"
      ]
    },
    {
      "cell_type": "code",
      "execution_count": null,
      "metadata": {
        "id": "dpR-B0tatnRP"
      },
      "outputs": [],
      "source": [
        "# Write your code below and press Shift+Enter to execute \n",
        "#El valor predecido es mucho mayor que el valor actual "
      ]
    },
    {
      "cell_type": "markdown",
      "metadata": {
        "id": "6PaAPmndtnRP"
      },
      "source": [
        "<details><summary>Click here for the solution</summary>\n",
        "\n",
        "```python\n",
        "#The predicted value is higher than actual value for cars where the price $10,000 range, conversely the predicted price is lower than the price cost in the $30,000 to $40,000 range. As such the model is not as accurate in these ranges.\n",
        "\n",
        "```\n",
        "\n",
        "</details>\n"
      ]
    },
    {
      "cell_type": "markdown",
      "metadata": {
        "id": "EYeDJNOotnRP"
      },
      "source": [
        "<h2 id=\"ref3\">Part 3: Ridge Regression</h2> \n"
      ]
    },
    {
      "cell_type": "markdown",
      "metadata": {
        "id": "mZ4_TcfOtnRP"
      },
      "source": [
        "In this section, we will review Ridge Regression and see how the parameter alpha changes the model. Just a note, here our test data will be used as validation data.\n"
      ]
    },
    {
      "cell_type": "markdown",
      "metadata": {
        "id": "tGUk3DCktnRP"
      },
      "source": [
        "Let's perform a degree two polynomial transformation on our data.\n"
      ]
    },
    {
      "cell_type": "code",
      "execution_count": null,
      "metadata": {
        "id": "rhUfR-IWtnRP"
      },
      "outputs": [],
      "source": [
        "pr=PolynomialFeatures(degree=2)\n",
        "x_train_pr=pr.fit_transform(x_train[['horsepower', 'curb-weight', 'engine-size', 'highway-mpg','normalized-losses','symboling']])\n",
        "x_test_pr=pr.fit_transform(x_test[['horsepower', 'curb-weight', 'engine-size', 'highway-mpg','normalized-losses','symboling']])"
      ]
    },
    {
      "cell_type": "markdown",
      "metadata": {
        "id": "SKYtrNPttnRP"
      },
      "source": [
        "Let's import  <b>Ridge</b>  from the module <b>linear models</b>.\n"
      ]
    },
    {
      "cell_type": "code",
      "execution_count": null,
      "metadata": {
        "id": "LtBA9D1utnRP"
      },
      "outputs": [],
      "source": [
        "from sklearn.linear_model import Ridge"
      ]
    },
    {
      "cell_type": "markdown",
      "metadata": {
        "id": "a8jJnsGetnRQ"
      },
      "source": [
        "Let's create a Ridge regression object, setting the regularization parameter (alpha) to 0.1\n"
      ]
    },
    {
      "cell_type": "code",
      "execution_count": null,
      "metadata": {
        "id": "wcZBVvQ0tnRQ"
      },
      "outputs": [],
      "source": [
        "RigeModel=Ridge(alpha=1)"
      ]
    },
    {
      "cell_type": "markdown",
      "metadata": {
        "id": "zzeqgapStnRQ"
      },
      "source": [
        "Like regular regression, you can fit the model using the method <b>fit</b>.\n"
      ]
    },
    {
      "cell_type": "code",
      "execution_count": null,
      "metadata": {
        "colab": {
          "base_uri": "https://localhost:8080/"
        },
        "id": "wkVLN97wtnRQ",
        "outputId": "6043f5c4-c6e4-4038-908d-919c8447cc1f"
      },
      "outputs": [
        {
          "output_type": "execute_result",
          "data": {
            "text/plain": [
              "Ridge(alpha=1)"
            ]
          },
          "metadata": {},
          "execution_count": 60
        }
      ],
      "source": [
        "RigeModel.fit(x_train_pr, y_train)"
      ]
    },
    {
      "cell_type": "markdown",
      "metadata": {
        "id": "V6c5yWD2tnRQ"
      },
      "source": [
        "Similarly, you can obtain a prediction:\n"
      ]
    },
    {
      "cell_type": "code",
      "execution_count": null,
      "metadata": {
        "id": "rcLWQWP-tnRQ"
      },
      "outputs": [],
      "source": [
        "yhat = RigeModel.predict(x_test_pr)"
      ]
    },
    {
      "cell_type": "markdown",
      "metadata": {
        "id": "wym8nJ-atnRQ"
      },
      "source": [
        "Let's compare the first five predicted samples to our test set:\n"
      ]
    },
    {
      "cell_type": "code",
      "execution_count": null,
      "metadata": {
        "colab": {
          "base_uri": "https://localhost:8080/"
        },
        "id": "lohXN6lbtnRQ",
        "outputId": "2cbd792c-d2de-44c3-f9a4-d1cd58948ffd"
      },
      "outputs": [
        {
          "output_type": "stream",
          "name": "stdout",
          "text": [
            "predicted: [ 6728.65561887  7307.98782321 12213.78770965 18893.24804015]\n",
            "test set : [ 6295. 10698. 13860. 13499.]\n"
          ]
        }
      ],
      "source": [
        "print('predicted:', yhat[0:4])\n",
        "print('test set :', y_test[0:4].values)"
      ]
    },
    {
      "cell_type": "markdown",
      "metadata": {
        "id": "ysoQp8LFtnRQ"
      },
      "source": [
        "We select the value of alpha that minimizes the test error. To do so, we can use a for loop. We have also created a progress bar to see how many iterations we have completed so far.\n"
      ]
    },
    {
      "cell_type": "code",
      "execution_count": null,
      "metadata": {
        "colab": {
          "base_uri": "https://localhost:8080/"
        },
        "id": "fUn9F3AotnRQ",
        "outputId": "cb6c2537-f672-4391-952c-f456f3dc0186"
      },
      "outputs": [
        {
          "output_type": "stream",
          "name": "stderr",
          "text": [
            "100%|██████████| 1000/1000 [00:06<00:00, 163.57it/s, Test Score=0.564, Train Score=0.859]\n"
          ]
        }
      ],
      "source": [
        "from tqdm import tqdm\n",
        "\n",
        "Rsqu_test = []\n",
        "Rsqu_train = []\n",
        "dummy1 = []\n",
        "Alpha = 10 * np.array(range(0,1000))\n",
        "pbar = tqdm(Alpha)\n",
        "\n",
        "for alpha in pbar:\n",
        "    RigeModel = Ridge(alpha=alpha) \n",
        "    RigeModel.fit(x_train_pr, y_train)\n",
        "    test_score, train_score = RigeModel.score(x_test_pr, y_test), RigeModel.score(x_train_pr, y_train)\n",
        "    \n",
        "    pbar.set_postfix({\"Test Score\": test_score, \"Train Score\": train_score})\n",
        "\n",
        "    Rsqu_test.append(test_score)\n",
        "    Rsqu_train.append(train_score)"
      ]
    },
    {
      "cell_type": "markdown",
      "metadata": {
        "id": "eH41YtJKtnRQ"
      },
      "source": [
        "We can plot out the value of R^2 for different alphas:\n"
      ]
    },
    {
      "cell_type": "code",
      "execution_count": null,
      "metadata": {
        "colab": {
          "base_uri": "https://localhost:8080/",
          "height": 624
        },
        "id": "-c9pv-xvtnRQ",
        "outputId": "60b50081-2a90-40c9-ef21-d8b588d43da6"
      },
      "outputs": [
        {
          "output_type": "execute_result",
          "data": {
            "text/plain": [
              "<matplotlib.legend.Legend at 0x7f281504aad0>"
            ]
          },
          "metadata": {},
          "execution_count": 63
        },
        {
          "output_type": "display_data",
          "data": {
            "text/plain": [
              "<Figure size 864x720 with 1 Axes>"
            ],
            "image/png": "[encoded data removed]"
          },
          "metadata": {
            "needs_background": "light"
          }
        }
      ],
      "source": [
        "width = 12\n",
        "height = 10\n",
        "plt.figure(figsize=(width, height))\n",
        "\n",
        "plt.plot(Alpha,Rsqu_test, label='validation data  ')\n",
        "plt.plot(Alpha,Rsqu_train, 'r', label='training Data ')\n",
        "plt.xlabel('alpha')\n",
        "plt.ylabel('R^2')\n",
        "plt.legend()"
      ]
    },
    {
      "cell_type": "markdown",
      "metadata": {
        "id": "P9WMHxFWtnRQ"
      },
      "source": [
        "**Figure 4**: The blue line represents the R^2 of the validation data, and the red line represents the R^2 of the training data. The x-axis represents the different values of Alpha.\n"
      ]
    },
    {
      "cell_type": "markdown",
      "metadata": {
        "id": "nX5MNdk2tnRQ"
      },
      "source": [
        "Here the model is built and tested on the same data, so the training and test data are the same.\n",
        "\n",
        "The red line in Figure 4 represents the R^2 of the training data. As alpha increases the R^2 decreases. Therefore, as alpha increases, the model performs worse on the training data\n",
        "\n",
        "The blue line represents the R^2 on the validation data. As the value for alpha increases, the R^2 increases and converges at a point.\n"
      ]
    },
    {
      "cell_type": "markdown",
      "metadata": {
        "id": "yVmIhPGptnRQ"
      },
      "source": [
        "<div class=\"alert alert-danger alertdanger\" style=\"margin-top: 20px\">\n",
        "<h1> Question  #5): </h1>\n",
        "\n",
        "Perform Ridge regression. Calculate the R^2 using the polynomial features, use the training data to train the model and use the test data to test the model. The parameter alpha should be set to 10.\n",
        "\n",
        "</div>\n"
      ]
    },
    {
      "cell_type": "code",
      "execution_count": null,
      "metadata": {
        "colab": {
          "base_uri": "https://localhost:8080/"
        },
        "id": "xNR-Wu4-tnRR",
        "outputId": "8a5a7b68-3cd2-4a9f-f965-5825b57f4106"
      },
      "outputs": [
        {
          "output_type": "execute_result",
          "data": {
            "text/plain": [
              "0.5418576440206702"
            ]
          },
          "metadata": {},
          "execution_count": 65
        }
      ],
      "source": [
        "# Write your code below and press Shift+Enter to execute \n",
        "RigeModel2=Ridge(alpha=10)\n",
        "RigeModel2.fit(x_train_pr, y_train)\n",
        "RigeModel2.score(x_test_pr, y_test)"
      ]
    },
    {
      "cell_type": "markdown",
      "metadata": {
        "id": "8_t3t3oytnRR"
      },
      "source": [
        "<details><summary>Click here for the solution</summary>\n",
        "\n",
        "```python\n",
        "RigeModel = Ridge(alpha=10) \n",
        "RigeModel.fit(x_train_pr, y_train)\n",
        "RigeModel.score(x_test_pr, y_test)\n",
        "\n",
        "```\n",
        "\n",
        "</details>\n"
      ]
    },
    {
      "cell_type": "markdown",
      "metadata": {
        "id": "yDKtTcOstnRR"
      },
      "source": [
        "<h2 id=\"ref4\">Part 4: Grid Search</h2>\n"
      ]
    },
    {
      "cell_type": "markdown",
      "metadata": {
        "id": "6xVqhkm1tnRR"
      },
      "source": [
        "The term alpha is a hyperparameter. Sklearn has the class <b>GridSearchCV</b> to make the process of finding the best hyperparameter simpler.\n"
      ]
    },
    {
      "cell_type": "markdown",
      "metadata": {
        "id": "tfHHuuQttnRR"
      },
      "source": [
        "Let's import <b>GridSearchCV</b> from  the module <b>model_selection</b>.\n"
      ]
    },
    {
      "cell_type": "code",
      "execution_count": null,
      "metadata": {
        "id": "Yx-ZDUYYtnRR"
      },
      "outputs": [],
      "source": [
        "from sklearn.model_selection import GridSearchCV"
      ]
    },
    {
      "cell_type": "markdown",
      "metadata": {
        "id": "w_5CQpq2tnRR"
      },
      "source": [
        "We create a dictionary of parameter values:\n"
      ]
    },
    {
      "cell_type": "code",
      "execution_count": null,
      "metadata": {
        "colab": {
          "base_uri": "https://localhost:8080/"
        },
        "id": "YZPt5Lv7tnRR",
        "outputId": "630804a0-a651-4104-bfa0-1a0a491b412a"
      },
      "outputs": [
        {
          "output_type": "execute_result",
          "data": {
            "text/plain": [
              "[{'alpha': [0.001, 0.1, 1, 10, 100, 1000, 10000, 100000, 100000]}]"
            ]
          },
          "metadata": {},
          "execution_count": 67
        }
      ],
      "source": [
        "parameters1= [{'alpha': [0.001,0.1,1, 10, 100, 1000, 10000, 100000, 100000]}]\n",
        "parameters1"
      ]
    },
    {
      "cell_type": "markdown",
      "metadata": {
        "id": "QqF_HySctnRR"
      },
      "source": [
        "Create a Ridge regression object:\n"
      ]
    },
    {
      "cell_type": "code",
      "execution_count": null,
      "metadata": {
        "colab": {
          "base_uri": "https://localhost:8080/"
        },
        "id": "zGSu2GBNtnRR",
        "outputId": "19ea333a-3273-4fbd-e201-c96174a7c054"
      },
      "outputs": [
        {
          "output_type": "execute_result",
          "data": {
            "text/plain": [
              "Ridge()"
            ]
          },
          "metadata": {},
          "execution_count": 68
        }
      ],
      "source": [
        "RR=Ridge()\n",
        "RR"
      ]
    },
    {
      "cell_type": "markdown",
      "metadata": {
        "id": "gDMlMk_wtnRR"
      },
      "source": [
        "Create a ridge grid search object:\n"
      ]
    },
    {
      "cell_type": "code",
      "execution_count": null,
      "metadata": {
        "id": "Y5cfAJi5tnRR"
      },
      "outputs": [],
      "source": [
        "Grid1 = GridSearchCV(RR, parameters1,cv=4)"
      ]
    },
    {
      "cell_type": "markdown",
      "metadata": {
        "id": "XM3341v7tnRR"
      },
      "source": [
        "Fit the model:\n"
      ]
    },
    {
      "cell_type": "code",
      "execution_count": null,
      "metadata": {
        "colab": {
          "base_uri": "https://localhost:8080/"
        },
        "id": "jtFkWy3KtnRR",
        "outputId": "54ae2dd8-8a27-4bac-f051-223a9e22ca13"
      },
      "outputs": [
        {
          "output_type": "execute_result",
          "data": {
            "text/plain": [
              "GridSearchCV(cv=4, estimator=Ridge(),\n",
              "             param_grid=[{'alpha': [0.001, 0.1, 1, 10, 100, 1000, 10000, 100000,\n",
              "                                    100000]}])"
            ]
          },
          "metadata": {},
          "execution_count": 70
        }
      ],
      "source": [
        "Grid1.fit(x_data[['horsepower', 'curb-weight', 'engine-size', 'highway-mpg']], y_data)"
      ]
    },
    {
      "cell_type": "markdown",
      "metadata": {
        "id": "WQNSooSCtnRR"
      },
      "source": [
        "The object finds the best parameter values on the validation data. We can obtain the estimator with the best parameters and assign it to the variable BestRR as follows:\n"
      ]
    },
    {
      "cell_type": "code",
      "execution_count": null,
      "metadata": {
        "colab": {
          "base_uri": "https://localhost:8080/"
        },
        "id": "9IlLEdg7tnRS",
        "outputId": "c02778a8-93e7-4ef7-ecd8-c89b2f0e0726"
      },
      "outputs": [
        {
          "output_type": "execute_result",
          "data": {
            "text/plain": [
              "Ridge(alpha=10000)"
            ]
          },
          "metadata": {},
          "execution_count": 71
        }
      ],
      "source": [
        "BestRR=Grid1.best_estimator_\n",
        "BestRR"
      ]
    },
    {
      "cell_type": "markdown",
      "metadata": {
        "id": "IphzpWKJtnRS"
      },
      "source": [
        "We now test our model on the test data:\n"
      ]
    },
    {
      "cell_type": "code",
      "execution_count": null,
      "metadata": {
        "colab": {
          "base_uri": "https://localhost:8080/"
        },
        "id": "uGx3X-ojtnRS",
        "outputId": "e8d6624e-292b-4c95-f747-d5db0688d30d"
      },
      "outputs": [
        {
          "output_type": "execute_result",
          "data": {
            "text/plain": [
              "0.8411649831036151"
            ]
          },
          "metadata": {},
          "execution_count": 72
        }
      ],
      "source": [
        "BestRR.score(x_test[['horsepower', 'curb-weight', 'engine-size', 'highway-mpg']], y_test)"
      ]
    },
    {
      "cell_type": "markdown",
      "metadata": {
        "id": "6-NyHix7tnRS"
      },
      "source": [
        "### Thank you for completing this lab!\n",
        "\n",
        "## Author\n",
        "\n",
        "<a href=\"https://www.linkedin.com/in/joseph-s-50398b136/?utm_medium=Exinfluencer&utm_source=Exinfluencer&utm_content=000026UJ&utm_term=10006555&utm_id=NA-SkillsNetwork-Channel-SkillsNetworkCoursesIBMDeveloperSkillsNetworkDA0101ENSkillsNetwork20235326-2021-01-01\" target=\"_blank\">Joseph Santarcangelo</a>\n",
        "\n",
        "### Other Contributors\n",
        "\n",
        "<a href=\"https://www.linkedin.com/in/mahdi-noorian-58219234/?utm_medium=Exinfluencer&utm_source=Exinfluencer&utm_content=000026UJ&utm_term=10006555&utm_id=NA-SkillsNetwork-Channel-SkillsNetworkCoursesIBMDeveloperSkillsNetworkDA0101ENSkillsNetwork20235326-2021-01-01\" target=\"_blank\">Mahdi Noorian PhD</a>\n",
        "\n",
        "Bahare Talayian\n",
        "\n",
        "Eric Xiao\n",
        "\n",
        "Steven Dong\n",
        "\n",
        "Parizad\n",
        "\n",
        "Hima Vasudevan\n",
        "\n",
        "<a href=\"https://www.linkedin.com/in/fiorellawever/?utm_medium=Exinfluencer&utm_source=Exinfluencer&utm_content=000026UJ&utm_term=10006555&utm_id=NA-SkillsNetwork-Channel-SkillsNetworkCoursesIBMDeveloperSkillsNetworkDA0101ENSkillsNetwork20235326-2021-01-01\" target=\"_blank\">Fiorella Wenver</a>\n",
        "\n",
        "<a href=\"https:// https://www.linkedin.com/in/yi-leng-yao-84451275/ \" target=\"_blank\" >Yi Yao</a>.\n",
        "\n",
        "## Change Log\n",
        "\n",
        "| Date (YYYY-MM-DD) | Version | Changed By | Change Description                         |\n",
        "| ----------------- | ------- | ---------- | ------------------------------------------ |\n",
        "| 2022-08-23        | 2.4     | Malika     | Updated packages by adding keep_going=True |\n",
        "| 2020-10-30        | 2.3     | Lakshmi    | Changed URL of csv                         |\n",
        "| 2020-10-05        | 2.2     | Lakshmi    | Removed unused library imports             |\n",
        "| 2020-09-14        | 2.1     | Lakshmi    | Made changes in OverFitting section        |\n",
        "| 2020-08-27        | 2.0     | Lavanya    | Moved lab to course repo in GitLab         |\n",
        "\n",
        "<hr>\n",
        "\n",
        "## <h3 align=\"center\"> © IBM Corporation 2020. All rights reserved. <h3/>\n"
      ]
    }
  ],
  "metadata": {
    "anaconda-cloud": {},
    "kernelspec": {
      "display_name": "Python 3",
      "language": "python",
      "name": "python3"
    },
    "language_info": {
      "codemirror_mode": {
        "name": "ipython",
        "version": 3
      },
      "file_extension": ".py",
      "mimetype": "text/x-python",
      "name": "python",
      "nbconvert_exporter": "python",
      "pygments_lexer": "ipython3",
      "version": "3.7.6"
    },
    "metadata": {
      "interpreter": {
        "hash": "ac2eaa0ea0ebeafcc7822e65e46aa9d4f966f30b695406963e145ea4a91cd4fc"
      }
    },
    "colab": {
      "provenance": [],
      "collapsed_sections": [
        "6-NyHix7tnRS"
      ],
      "include_colab_link": true
    },
    "widgets": {
      "application/vnd.jupyter.widget-state+json": {
        "1156a2e6df2347f8b166e46b0c078279": {
          "model_module": "@jupyter-widgets/controls",
          "model_name": "VBoxModel",
          "model_module_version": "1.5.0",
          "state": {
            "_dom_classes": [
              "widget-interact"
            ],
            "_model_module": "@jupyter-widgets/controls",
            "_model_module_version": "1.5.0",
            "_model_name": "VBoxModel",
            "_view_count": null,
            "_view_module": "@jupyter-widgets/controls",
            "_view_module_version": "1.5.0",
            "_view_name": "VBoxView",
            "box_style": "",
            "children": [
              "IPY_MODEL_8c5011b209e4440089641c1740433008",
              "IPY_MODEL_8553bf73ece04a4a84a3f8f8ee9d8937",
              "IPY_MODEL_d212da1d028148aca91d201b45a97b65"
            ],
            "layout": "IPY_MODEL_c0171ad1064f4a5bb6943d7a5de973d4"
          }
        },
        "8c5011b209e4440089641c1740433008": {
          "model_module": "@jupyter-widgets/controls",
          "model_name": "IntSliderModel",
          "model_module_version": "1.5.0",
          "state": {
            "_dom_classes": [],
            "_model_module": "@jupyter-widgets/controls",
            "_model_module_version": "1.5.0",
            "_model_name": "IntSliderModel",
            "_view_count": null,
            "_view_module": "@jupyter-widgets/controls",
            "_view_module_version": "1.5.0",
            "_view_name": "IntSliderView",
            "continuous_update": true,
            "description": "order",
            "description_tooltip": null,
            "disabled": false,
            "layout": "IPY_MODEL_bbd377e037ed45a09e8c5e6beaf3873f",
            "max": 6,
            "min": 0,
            "orientation": "horizontal",
            "readout": true,
            "readout_format": "d",
            "step": 1,
            "style": "IPY_MODEL_0a6b7db0ad3c41d8b6d179e48f9af567",
            "value": 5
          }
        },
        "8553bf73ece04a4a84a3f8f8ee9d8937": {
          "model_module": "@jupyter-widgets/controls",
          "model_name": "FloatSliderModel",
          "model_module_version": "1.5.0",
          "state": {
            "_dom_classes": [],
            "_model_module": "@jupyter-widgets/controls",
            "_model_module_version": "1.5.0",
            "_model_name": "FloatSliderModel",
            "_view_count": null,
            "_view_module": "@jupyter-widgets/controls",
            "_view_module_version": "1.5.0",
            "_view_name": "FloatSliderView",
            "continuous_update": true,
            "description": "test_data",
            "description_tooltip": null,
            "disabled": false,
            "layout": "IPY_MODEL_d968fe76f0c741fd93bfdb54bd80f2f0",
            "max": 0.95,
            "min": 0.05,
            "orientation": "horizontal",
            "readout": true,
            "readout_format": ".2f",
            "step": 0.05,
            "style": "IPY_MODEL_c437eac079764615b6fa83486f9e1872",
            "value": 0.8
          }
        },
        "d212da1d028148aca91d201b45a97b65": {
          "model_module": "@jupyter-widgets/output",
          "model_name": "OutputModel",
          "model_module_version": "1.0.0",
          "state": {
            "_dom_classes": [],
            "_model_module": "@jupyter-widgets/output",
            "_model_module_version": "1.0.0",
            "_model_name": "OutputModel",
            "_view_count": null,
            "_view_module": "@jupyter-widgets/output",
            "_view_module_version": "1.0.0",
            "_view_name": "OutputView",
            "layout": "IPY_MODEL_257ce04de94f4ffa9bab11a165cc59b5",
            "msg_id": "",
            "outputs": [
              {
                "output_type": "display_data",
                "data": {
                  "text/plain": "<Figure size 864x720 with 1 Axes>",
                  "image/png": "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\n"
                },
                "metadata": {
                  "needs_background": "light"
                }
              }
            ]
          }
        },
        "c0171ad1064f4a5bb6943d7a5de973d4": {
          "model_module": "@jupyter-widgets/base",
          "model_name": "LayoutModel",
          "model_module_version": "1.2.0",
          "state": {
            "_model_module": "@jupyter-widgets/base",
            "_model_module_version": "1.2.0",
            "_model_name": "LayoutModel",
            "_view_count": null,
            "_view_module": "@jupyter-widgets/base",
            "_view_module_version": "1.2.0",
            "_view_name": "LayoutView",
            "align_content": null,
            "align_items": null,
            "align_self": null,
            "border": null,
            "bottom": null,
            "display": null,
            "flex": null,
            "flex_flow": null,
            "grid_area": null,
            "grid_auto_columns": null,
            "grid_auto_flow": null,
            "grid_auto_rows": null,
            "grid_column": null,
            "grid_gap": null,
            "grid_row": null,
            "grid_template_areas": null,
            "grid_template_columns": null,
            "grid_template_rows": null,
            "height": null,
            "justify_content": null,
            "justify_items": null,
            "left": null,
            "margin": null,
            "max_height": null,
            "max_width": null,
            "min_height": null,
            "min_width": null,
            "object_fit": null,
            "object_position": null,
            "order": null,
            "overflow": null,
            "overflow_x": null,
            "overflow_y": null,
            "padding": null,
            "right": null,
            "top": null,
            "visibility": null,
            "width": null
          }
        },
        "bbd377e037ed45a09e8c5e6beaf3873f": {
          "model_module": "@jupyter-widgets/base",
          "model_name": "LayoutModel",
          "model_module_version": "1.2.0",
          "state": {
            "_model_module": "@jupyter-widgets/base",
            "_model_module_version": "1.2.0",
            "_model_name": "LayoutModel",
            "_view_count": null,
            "_view_module": "@jupyter-widgets/base",
            "_view_module_version": "1.2.0",
            "_view_name": "LayoutView",
            "align_content": null,
            "align_items": null,
            "align_self": null,
            "border": null,
            "bottom": null,
            "display": null,
            "flex": null,
            "flex_flow": null,
            "grid_area": null,
            "grid_auto_columns": null,
            "grid_auto_flow": null,
            "grid_auto_rows": null,
            "grid_column": null,
            "grid_gap": null,
            "grid_row": null,
            "grid_template_areas": null,
            "grid_template_columns": null,
            "grid_template_rows": null,
            "height": null,
            "justify_content": null,
            "justify_items": null,
            "left": null,
            "margin": null,
            "max_height": null,
            "max_width": null,
            "min_height": null,
            "min_width": null,
            "object_fit": null,
            "object_position": null,
            "order": null,
            "overflow": null,
            "overflow_x": null,
            "overflow_y": null,
            "padding": null,
            "right": null,
            "top": null,
            "visibility": null,
            "width": null
          }
        },
        "0a6b7db0ad3c41d8b6d179e48f9af567": {
          "model_module": "@jupyter-widgets/controls",
          "model_name": "SliderStyleModel",
          "model_module_version": "1.5.0",
          "state": {
            "_model_module": "@jupyter-widgets/controls",
            "_model_module_version": "1.5.0",
            "_model_name": "SliderStyleModel",
            "_view_count": null,
            "_view_module": "@jupyter-widgets/base",
            "_view_module_version": "1.2.0",
            "_view_name": "StyleView",
            "description_width": "",
            "handle_color": null
          }
        },
        "d968fe76f0c741fd93bfdb54bd80f2f0": {
          "model_module": "@jupyter-widgets/base",
          "model_name": "LayoutModel",
          "model_module_version": "1.2.0",
          "state": {
            "_model_module": "@jupyter-widgets/base",
            "_model_module_version": "1.2.0",
            "_model_name": "LayoutModel",
            "_view_count": null,
            "_view_module": "@jupyter-widgets/base",
            "_view_module_version": "1.2.0",
            "_view_name": "LayoutView",
            "align_content": null,
            "align_items": null,
            "align_self": null,
            "border": null,
            "bottom": null,
            "display": null,
            "flex": null,
            "flex_flow": null,
            "grid_area": null,
            "grid_auto_columns": null,
            "grid_auto_flow": null,
            "grid_auto_rows": null,
            "grid_column": null,
            "grid_gap": null,
            "grid_row": null,
            "grid_template_areas": null,
            "grid_template_columns": null,
            "grid_template_rows": null,
            "height": null,
            "justify_content": null,
            "justify_items": null,
            "left": null,
            "margin": null,
            "max_height": null,
            "max_width": null,
            "min_height": null,
            "min_width": null,
            "object_fit": null,
            "object_position": null,
            "order": null,
            "overflow": null,
            "overflow_x": null,
            "overflow_y": null,
            "padding": null,
            "right": null,
            "top": null,
            "visibility": null,
            "width": null
          }
        },
        "c437eac079764615b6fa83486f9e1872": {
          "model_module": "@jupyter-widgets/controls",
          "model_name": "SliderStyleModel",
          "model_module_version": "1.5.0",
          "state": {
            "_model_module": "@jupyter-widgets/controls",
            "_model_module_version": "1.5.0",
            "_model_name": "SliderStyleModel",
            "_view_count": null,
            "_view_module": "@jupyter-widgets/base",
            "_view_module_version": "1.2.0",
            "_view_name": "StyleView",
            "description_width": "",
            "handle_color": null
          }
        },
        "257ce04de94f4ffa9bab11a165cc59b5": {
          "model_module": "@jupyter-widgets/base",
          "model_name": "LayoutModel",
          "model_module_version": "1.2.0",
          "state": {
            "_model_module": "@jupyter-widgets/base",
            "_model_module_version": "1.2.0",
            "_model_name": "LayoutModel",
            "_view_count": null,
            "_view_module": "@jupyter-widgets/base",
            "_view_module_version": "1.2.0",
            "_view_name": "LayoutView",
            "align_content": null,
            "align_items": null,
            "align_self": null,
            "border": null,
            "bottom": null,
            "display": null,
            "flex": null,
            "flex_flow": null,
            "grid_area": null,
            "grid_auto_columns": null,
            "grid_auto_flow": null,
            "grid_auto_rows": null,
            "grid_column": null,
            "grid_gap": null,
            "grid_row": null,
            "grid_template_areas": null,
            "grid_template_columns": null,
            "grid_template_rows": null,
            "height": null,
            "justify_content": null,
            "justify_items": null,
            "left": null,
            "margin": null,
            "max_height": null,
            "max_width": null,
            "min_height": null,
            "min_width": null,
            "object_fit": null,
            "object_position": null,
            "order": null,
            "overflow": null,
            "overflow_x": null,
            "overflow_y": null,
            "padding": null,
            "right": null,
            "top": null,
            "visibility": null,
            "width": null
          }
        }
      }
    }
  },
  "nbformat": 4,
  "nbformat_minor": 0
}