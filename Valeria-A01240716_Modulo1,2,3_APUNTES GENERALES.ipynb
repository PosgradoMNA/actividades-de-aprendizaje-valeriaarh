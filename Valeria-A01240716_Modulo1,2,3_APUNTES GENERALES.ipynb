{
 "cells": [
  {
   "cell_type": "code",
   "execution_count": 1,
   "id": "60fd41c8",
   "metadata": {},
   "outputs": [],
   "source": [
    "#Valeria Ramirez A01240716\n",
    "#Módulo 1 Phyton Basics"
   ]
  },
  {
   "cell_type": "code",
   "execution_count": 2,
   "id": "bf3bdd19",
   "metadata": {},
   "outputs": [
    {
     "name": "stdout",
     "output_type": "stream",
     "text": [
      "Hello Python 101\n"
     ]
    }
   ],
   "source": [
    "#Your first program\n",
    "#Print statement\n",
    "\n",
    "print(\"Hello Python 101\")"
   ]
  },
  {
   "cell_type": "code",
   "execution_count": 3,
   "id": "8b3526a5",
   "metadata": {},
   "outputs": [
    {
     "name": "stdout",
     "output_type": "stream",
     "text": [
      "Hello\n",
      "World!\n"
     ]
    }
   ],
   "source": [
    "#Question1 - Your first program\n",
    "\n",
    "print(\"Hello\\nWorld!\")"
   ]
  },
  {
   "cell_type": "code",
   "execution_count": 4,
   "id": "50f080a9",
   "metadata": {},
   "outputs": [],
   "source": [
    "#Question2 - Your first program\n",
    "\n",
    "# print('Hello World!')"
   ]
  },
  {
   "cell_type": "code",
   "execution_count": 5,
   "id": "055861bb",
   "metadata": {},
   "outputs": [],
   "source": [
    "#Types - how represent different type of data\n",
    "#int - Possitive or negatives\n",
    "#float - real number including number between integers\n",
    "\n",
    "#Convert integer in floats, but carefully viceversa\n",
    "#boolean - can take on 2 values"
   ]
  },
  {
   "cell_type": "code",
   "execution_count": 6,
   "id": "afdc0e88",
   "metadata": {},
   "outputs": [
    {
     "data": {
      "text/plain": [
       "1"
      ]
     },
     "execution_count": 6,
     "metadata": {},
     "output_type": "execute_result"
    }
   ],
   "source": [
    "#Question1 - Types\n",
    "\n",
    "int(1.0) #respuesta int"
   ]
  },
  {
   "cell_type": "code",
   "execution_count": 7,
   "id": "eca2c62f",
   "metadata": {},
   "outputs": [
    {
     "data": {
      "text/plain": [
       "True"
      ]
     },
     "execution_count": 7,
     "metadata": {},
     "output_type": "execute_result"
    }
   ],
   "source": [
    "#Question2 - Types\n",
    "#convert 1 to a Boolean\n",
    "\n",
    "bool(1)"
   ]
  },
  {
   "cell_type": "code",
   "execution_count": 8,
   "id": "a44f0c89",
   "metadata": {},
   "outputs": [],
   "source": [
    "#Expresions and variables\n",
    "# Type of operation a computer performs, Expressions for Python\n",
    "\n",
    "#total+min=43+42+57\n",
    "#total_hr=total_min/60\n",
    "#total_hr: will change acordding to total value"
   ]
  },
  {
   "cell_type": "code",
   "execution_count": 9,
   "id": "6371ec77",
   "metadata": {},
   "outputs": [],
   "source": [
    "#Lab1 - Archivo1 done y descargado"
   ]
  },
  {
   "cell_type": "code",
   "execution_count": 10,
   "id": "5702766f",
   "metadata": {},
   "outputs": [],
   "source": [
    "#String Operations - sequence of characters, spaces, digits, special characters :: (everysecond character)\n",
    "# \\n enter, /t tab, // separa"
   ]
  },
  {
   "cell_type": "code",
   "execution_count": 11,
   "id": "f0fd27c2",
   "metadata": {},
   "outputs": [
    {
     "data": {
      "text/plain": [
       "'0246'"
      ]
     },
     "execution_count": 11,
     "metadata": {},
     "output_type": "execute_result"
    }
   ],
   "source": [
    "#Question1\n",
    "Numbers=\"0123456\"\n",
    "Numbers[::2] #Respuesta ya que cada 2 caracteres te dará el número par"
   ]
  },
  {
   "cell_type": "code",
   "execution_count": 12,
   "id": "db5d9f03",
   "metadata": {},
   "outputs": [
    {
     "data": {
      "text/plain": [
       "1"
      ]
     },
     "execution_count": 12,
     "metadata": {},
     "output_type": "execute_result"
    }
   ],
   "source": [
    "#Question2\n",
    "\"0123456\".find('1')"
   ]
  },
  {
   "cell_type": "code",
   "execution_count": 13,
   "id": "8fc3dccf",
   "metadata": {},
   "outputs": [],
   "source": [
    "#Lab2 String - Done y descargado"
   ]
  },
  {
   "cell_type": "code",
   "execution_count": 14,
   "id": "4e2c70fd",
   "metadata": {},
   "outputs": [
    {
     "name": "stdout",
     "output_type": "stream",
     "text": [
      "Li\n"
     ]
    },
    {
     "data": {
      "text/plain": [
       "'12'"
      ]
     },
     "execution_count": 14,
     "metadata": {},
     "output_type": "execute_result"
    }
   ],
   "source": [
    "#Review questions1\n",
    "3+2*2\n",
    "\n",
    "#2\n",
    "name='Lizz'\n",
    "print(name[0:2])\n",
    "\n",
    "#4\n",
    "'1'+'2' #concatena los strings"
   ]
  },
  {
   "cell_type": "code",
   "execution_count": 15,
   "id": "d3089ce7",
   "metadata": {},
   "outputs": [],
   "source": [
    "#Módulo2\n",
    "#Tupples - ordered sequence, comma separated, str, int, float, tupples no se pueden cambiar\n",
    "#list - square bracket, se pueden cambiar. The address of each element within a list is called an index. Lists can contain strings, floats, and integers.\n"
   ]
  },
  {
   "cell_type": "code",
   "execution_count": 16,
   "id": "1b6eb4cc",
   "metadata": {},
   "outputs": [
    {
     "data": {
      "text/plain": [
       "3"
      ]
     },
     "execution_count": 16,
     "metadata": {},
     "output_type": "execute_result"
    }
   ],
   "source": [
    "#Question1\n",
    "A=(0,1,2,3)\n",
    "A[-1]"
   ]
  },
  {
   "cell_type": "code",
   "execution_count": 17,
   "id": "9c1f0814",
   "metadata": {},
   "outputs": [
    {
     "data": {
      "text/plain": [
       "['b', 'c']"
      ]
     },
     "execution_count": 17,
     "metadata": {},
     "output_type": "execute_result"
    }
   ],
   "source": [
    "#Question2\n",
    "B=[\"a\",\"b\",\"c\"]\n",
    "B[1:]"
   ]
  },
  {
   "cell_type": "code",
   "execution_count": 18,
   "id": "8943800c",
   "metadata": {},
   "outputs": [],
   "source": [
    "#Lab1-Módulo2 - Tupples - DONE y descargado\n",
    "#Lab2-Módulo2 - Listas - DONE y descargado\n"
   ]
  },
  {
   "cell_type": "code",
   "execution_count": 19,
   "id": "89ab4b2d",
   "metadata": {},
   "outputs": [],
   "source": [
    "#Sets - types of collection, unordered, unique elements in a set \n",
    "#(no se repiten elementos aunque estén en diferente posición), se usan llaves, \n",
    "#similar al diagrama de Venn... funciones add, remove, &(union de 2 sets), union (une 2 sets), issubset\n",
    "#A set is a unique collection of objects in Python"
   ]
  },
  {
   "cell_type": "code",
   "execution_count": 20,
   "id": "80850b23",
   "metadata": {},
   "outputs": [
    {
     "data": {
      "text/plain": [
       "{'A', 'B', 'C', 'Z'}"
      ]
     },
     "execution_count": 20,
     "metadata": {},
     "output_type": "execute_result"
    }
   ],
   "source": [
    "#Question1 -\n",
    "\n",
    "S={'A','B','C'}\n",
    "U={'A','Z','C'}\n",
    "U.union(S)"
   ]
  },
  {
   "cell_type": "code",
   "execution_count": 21,
   "id": "3ebe8b9f",
   "metadata": {},
   "outputs": [],
   "source": [
    "#Lab3-Sets - DONE y descargado"
   ]
  },
  {
   "cell_type": "code",
   "execution_count": 22,
   "id": "dcbc9a34",
   "metadata": {},
   "outputs": [],
   "source": [
    "#Dictionaries\n",
    "#type of collections, like addresses\n",
    "#usually characters not neccesary integers\n",
    "#immutable\n",
    "# A dictionary consists of keys and values. "
   ]
  },
  {
   "cell_type": "code",
   "execution_count": 23,
   "id": "709f1b88",
   "metadata": {},
   "outputs": [
    {
     "data": {
      "text/plain": [
       "dict_values([0, 1, 2])"
      ]
     },
     "execution_count": 23,
     "metadata": {},
     "output_type": "execute_result"
    }
   ],
   "source": [
    "#question1\n",
    "D = {'a':0,'b':1,'c':2}\n",
    "D.values()"
   ]
  },
  {
   "cell_type": "code",
   "execution_count": 24,
   "id": "600afb09",
   "metadata": {},
   "outputs": [
    {
     "data": {
      "text/plain": [
       "1"
      ]
     },
     "execution_count": 24,
     "metadata": {},
     "output_type": "execute_result"
    }
   ],
   "source": [
    "#question2\n",
    "#question1\n",
    "D = {'a':0,'b':1,'c':2}\n",
    "D['b']"
   ]
  },
  {
   "cell_type": "code",
   "execution_count": 25,
   "id": "69613aaa",
   "metadata": {},
   "outputs": [],
   "source": [
    "#Lab4-Dictionaries - DONE y descargado"
   ]
  },
  {
   "cell_type": "code",
   "execution_count": 26,
   "id": "2b71a06b",
   "metadata": {},
   "outputs": [
    {
     "data": {
      "text/plain": [
       "(4, 4, 4)"
      ]
     },
     "execution_count": 26,
     "metadata": {},
     "output_type": "execute_result"
    }
   ],
   "source": [
    "#Review Questions - Módulo 2\n",
    "#1\n",
    "#What is the syntax used to obtain the first element of the tuple:\n",
    "A = ('a','b','c')\n",
    "A[0] \n",
    "\n",
    "\n",
    "#2\n",
    "#After applying the following method, L.append(['a','b']), the following list will only be one element longer.\n",
    "#True\n",
    "\n",
    "#3\n",
    "#How many duplicate elements can you have in a set?\n",
    "#0. You can only have one unique element in a set.\n",
    "\n",
    "#4\n",
    "#What is the result of the following operation: Dict[\"D\"]?\n",
    "Dict={\"A\":1,\"B\":\"2\",\"C\":[3,3,3],\"D\":(4,4,4),'E':5,'F':6}\n",
    "Dict[\"D\"] #(4,4,4) resultado del valor de la llave D\n",
    "\n",
    "#5\n",
    "#What is an important difference between lists and tuples?\n",
    "#Lists are mutable, tuples are not."
   ]
  },
  {
   "cell_type": "code",
   "execution_count": 27,
   "id": "dcdb117f",
   "metadata": {},
   "outputs": [],
   "source": [
    "#Modulo3 - \n",
    "#Conditions and Branching \n",
    "    #based on condition a boolean is created\n",
    "    #true or false\n",
    "    #age=17\n",
    "    #if(age>18):\n",
    "        #print(\"puedes entrar\")\n",
    "    #print(\"no puedes entrar\")\n",
    "    #if, else, elseif\n",
    "    #logic operator takes boolean and produce boolean\n",
    "        #OR, AND\n",
    "#Loops\n",
    "    #Range function\n",
    "    #FOR loops can be used at tupples.\n",
    "    #The for loop enables you to execute a code block multiple times\n",
    "    #Each element in the list is a string\n",
    "    #WHILE LOOPS ONLY RUNS IS A CONDITION IS MET\n",
    "    #The while loop exists as a tool for repeated execution based on a condition\n",
    "        \n",
    "#Functions\n",
    "    #long lines of code can be suppresed in a function\n",
    "    #sort, numbered list alligns\n",
    "    #a function can have multiple parameters\n",
    "    #multiplication can duplicate values specially in strings\n",
    "    #There are two types of functions : Pre-defined functions User defined functions\n",
    "    \n",
    "#Objects and Classes"
   ]
  },
  {
   "cell_type": "code",
   "execution_count": 28,
   "id": "38ccc70d",
   "metadata": {},
   "outputs": [
    {
     "name": "stdout",
     "output_type": "stream",
     "text": [
      "This is a.\n"
     ]
    }
   ],
   "source": [
    "#Question1 - Conditions and branching\n",
    "#i!=0\n",
    "\n",
    "#Question2\n",
    "x='a'\n",
    "if(x!='a'):\n",
    "    print(\"This is not a.\")\n",
    "else:\n",
    "    print(\"This is a.\")"
   ]
  },
  {
   "cell_type": "code",
   "execution_count": 29,
   "id": "cdcb1088",
   "metadata": {},
   "outputs": [],
   "source": [
    "#Lab1 - Conditions and branching - Done y descargado"
   ]
  },
  {
   "cell_type": "code",
   "execution_count": 30,
   "id": "1d1f1654",
   "metadata": {},
   "outputs": [
    {
     "name": "stdout",
     "output_type": "stream",
     "text": [
      "3\n",
      "4\n",
      "5\n"
     ]
    }
   ],
   "source": [
    "#Question1 - Loops\n",
    "A=[3,4,5]\n",
    "for a in A:\n",
    "    print(a)"
   ]
  },
  {
   "cell_type": "code",
   "execution_count": 31,
   "id": "d03e0d17",
   "metadata": {},
   "outputs": [
    {
     "name": "stdout",
     "output_type": "stream",
     "text": [
      "1\n",
      "2\n"
     ]
    }
   ],
   "source": [
    "#Question2 - Respuesta 1,2\n",
    "x=3\n",
    "y=1\n",
    "while(y!=x):\n",
    "    print(y)\n",
    "    y=y+1"
   ]
  },
  {
   "cell_type": "code",
   "execution_count": 32,
   "id": "78cc2006",
   "metadata": {},
   "outputs": [],
   "source": [
    "#Lab2 - Loops - Done y descargado"
   ]
  },
  {
   "cell_type": "code",
   "execution_count": 34,
   "id": "3c17e0da",
   "metadata": {},
   "outputs": [],
   "source": [
    "#question1 - Functions\n",
    "a=1\n",
    "def add(b):\n",
    "    return a+b\n",
    "c=add(10) # RESPUESTA 11\n",
    "\n"
   ]
  },
  {
   "cell_type": "code",
   "execution_count": 35,
   "id": "1499df2d",
   "metadata": {},
   "outputs": [],
   "source": [
    "#QUESTION2\n",
    "What is the value of c after the following block of code is run with proper numerical input?\n",
    "def f(*x):\n",
    "    return sum(x) #Respuesta Return the total of a variable amount of parameters"
   ]
  },
  {
   "cell_type": "code",
   "execution_count": null,
   "id": "1a90d049",
   "metadata": {},
   "outputs": [],
   "source": [
    "#Lab3 - Functions - Done y descargado"
   ]
  },
  {
   "cell_type": "code",
   "execution_count": null,
   "id": "2db1ccec",
   "metadata": {},
   "outputs": [],
   "source": [
    "#question1 - Objects and classes\n",
    "#Using the Class Car in the lab, create a Car object with the following attributes:\n",
    "#make=\"Honda\"\n",
    "#model=\"Accord\"\n",
    "#color=\"blue\"\n",
    "#Respuesta: Car(\"Honda\",\"Accord\",\"blue\")\n",
    "\n",
    "#Question2\n",
    "#From the lab, how would you change the data attribute owner_number ?\n",
    "#Respuesta: Utilising the method sell()."
   ]
  },
  {
   "cell_type": "code",
   "execution_count": null,
   "id": "96553c8d",
   "metadata": {},
   "outputs": [],
   "source": [
    "#Lab4 - Classes and objects - Done"
   ]
  }
 ],
 "metadata": {
  "kernelspec": {
   "display_name": "Python 3 (ipykernel)",
   "language": "python",
   "name": "python3"
  },
  "language_info": {
   "codemirror_mode": {
    "name": "ipython",
    "version": 3
   },
   "file_extension": ".py",
   "mimetype": "text/x-python",
   "name": "python",
   "nbconvert_exporter": "python",
   "pygments_lexer": "ipython3",
   "version": "3.9.12"
  }
 },
 "nbformat": 4,
 "nbformat_minor": 5
}
